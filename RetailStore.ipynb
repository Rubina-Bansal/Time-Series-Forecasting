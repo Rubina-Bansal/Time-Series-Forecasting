{
 "cells": [
  {
   "cell_type": "markdown",
   "id": "037dc2fe",
   "metadata": {},
   "source": [
    "<table align=\"center\" width=100%>\n",
    "    <tr>\n",
    "        <td>\n",
    "            <div align=\"center\">\n",
    "                <font color=\"#21619\" size=6px>                   \n",
    "                    <b>  Retail \n",
    "                    </b>\n",
    "                </font>\n",
    "            </div>\n",
    "            <div align=\"center\">\n",
    "                <font color=\"#21619\" size=4.5px>                   \n",
    "                    <b>  \n",
    "                    </b>\n",
    "                </font>\n",
    "            </div>\n",
    "            <div align=\"center\">\n",
    "                <font color=\"#21619\" size=2px>                                      \n",
    "                    <b> \n",
    "                    <br>    \n",
    "                    </b>\n",
    "                </font>\n",
    "            </div>\n",
    "            <div align=\"center\">\n",
    "                <font color=\"#21619\" size=4px>                   \n",
    "                    <b>  Time Series Forecasting \n",
    "                    </b>\n",
    "                </font>\n",
    "            </div>\n",
    "         </td>\n",
    "    </tr>\n",
    "</table>"
   ]
  },
  {
   "cell_type": "markdown",
   "id": "e7e65beb",
   "metadata": {},
   "source": [
    "<table align=\"center\" width=100%>\n",
    "    <tr>\n",
    "        <td>\n",
    "            <div align=\"left\">\n",
    "                <font color=\"#21619\" size=4.8px>                   \n",
    "                    <b>  Author \n",
    "                    </b>\n",
    "                </font>\n",
    "            </div>\n",
    "        </td>\n",
    "    </tr>\n",
    "</table>\n",
    "\n",
    "* Rubina Bansal"
   ]
  },
  {
   "cell_type": "markdown",
   "id": "10b51d1d",
   "metadata": {},
   "source": [
    "<table align=\"center\" width=100%>\n",
    "    <tr>\n",
    "        <td>\n",
    "            <div align=\"left\">\n",
    "                <font color=\"#21619\" size=4px>                   \n",
    "                    <b>  Problem Statement  \n",
    "                    </b>\n",
    "                </font>\n",
    "            </div>\n",
    "        </td>\n",
    "    </tr>\n",
    "</table>\n",
    "\n",
    "Forecast customer footfall for retail store chains to help optimize staffing, inventory management, and promotional strategies.\n",
    "\n",
    "<table align=\"center\" width=100%>\n",
    "    <tr>\n",
    "        <td>\n",
    "            <div align=\"left\">\n",
    "                <font color=\"#21619\" size=4px>                   \n",
    "                    <b>  Dataset Description   \n",
    "                    </b>\n",
    "                </font>\n",
    "            </div>\n",
    "        </td>\n",
    "    </tr>\n",
    "</table>\n",
    "\n",
    "The data for 50 Retail Stores is available. The data consists of customers visiting a particluar store on a given day which is the most important to us. Other information available is:\n",
    "<br>\n",
    "`Store id`: a unique ID for each store           <br>\n",
    "`Day of Week`        <br>\n",
    "`Date`               <br> \n",
    "`Customers`: the number of customers on a given day.(Target Variable)                  <br>\n",
    "`Open`: an indicator for whether the store was open: 0 = closed, 1 = open.             <br>\n",
    "`Promotion`: indicates whether a store is running a promo on that day.                     <br>\n",
    "`State Holiday`: indicates a state holiday. Normally all stores, with few exceptions, are closed on state holidays. This has value as \"0\", \"a\", \"b\", \"c\"                                                            <br>\n",
    "`School Holiday`: indicates if the (Store, Date) was affected by the closure of public schools."
   ]
  },
  {
   "cell_type": "markdown",
   "id": "5273f879",
   "metadata": {},
   "source": [
    "<table align=\"center\" width=100%>\n",
    "    <tr>\n",
    "        <td>\n",
    "            <div align=\"left\">\n",
    "                <font color=\"#21619\" size=4.8px>                   \n",
    "                    <b>  Objective \n",
    "                    </b>\n",
    "                </font>\n",
    "            </div>\n",
    "        </td>\n",
    "    </tr>\n",
    "</table>\n",
    "\n",
    "* Using different TimeSeries Forecasting techniques, try to forecast the customer footfall across various retail stores."
   ]
  },
  {
   "cell_type": "markdown",
   "id": "63979e18",
   "metadata": {},
   "source": [
    "# Video-Time Series Analysis_EDA_Hands-on-Code"
   ]
  },
  {
   "cell_type": "code",
   "execution_count": 78,
   "id": "f472f6b7",
   "metadata": {},
   "outputs": [],
   "source": [
    "# Import packages\n",
    "import numpy as np\n",
    "import pandas as pd\n",
    "from pandas import datetime\n",
    "import matplotlib.pyplot as plt\n",
    "import seaborn as sns\n",
    "%matplotlib inline\n",
    "\n",
    "#statistics\n",
    "from statsmodels.distributions.empirical_distribution import ECDF\n",
    "\n",
    "# timse series analysis\n",
    "from statsmodels.tsa.seasonal import seasonal_decompose\n",
    "from statsmodels.graphics.tsaplots import plot_acf, plot_pacf\n",
    "\n",
    "import warnings\n",
    "warnings.filterwarnings('ignore')"
   ]
  },
  {
   "cell_type": "code",
   "execution_count": 79,
   "id": "6116cbc8",
   "metadata": {
    "scrolled": true
   },
   "outputs": [
    {
     "data": {
      "text/html": [
       "<div>\n",
       "<style scoped>\n",
       "    .dataframe tbody tr th:only-of-type {\n",
       "        vertical-align: middle;\n",
       "    }\n",
       "\n",
       "    .dataframe tbody tr th {\n",
       "        vertical-align: top;\n",
       "    }\n",
       "\n",
       "    .dataframe thead th {\n",
       "        text-align: right;\n",
       "    }\n",
       "</style>\n",
       "<table border=\"1\" class=\"dataframe\">\n",
       "  <thead>\n",
       "    <tr style=\"text-align: right;\">\n",
       "      <th></th>\n",
       "      <th>Store</th>\n",
       "      <th>Day Of Week</th>\n",
       "      <th>Date</th>\n",
       "      <th>Customers</th>\n",
       "      <th>Open</th>\n",
       "      <th>Promotion</th>\n",
       "      <th>State Holiday</th>\n",
       "      <th>School Holiday</th>\n",
       "    </tr>\n",
       "  </thead>\n",
       "  <tbody>\n",
       "    <tr>\n",
       "      <th>0</th>\n",
       "      <td>1044</td>\n",
       "      <td>1</td>\n",
       "      <td>5/31/2016</td>\n",
       "      <td>884</td>\n",
       "      <td>1</td>\n",
       "      <td>1</td>\n",
       "      <td>0</td>\n",
       "      <td>0</td>\n",
       "    </tr>\n",
       "    <tr>\n",
       "      <th>1</th>\n",
       "      <td>1041</td>\n",
       "      <td>1</td>\n",
       "      <td>5/31/2016</td>\n",
       "      <td>1032</td>\n",
       "      <td>1</td>\n",
       "      <td>1</td>\n",
       "      <td>0</td>\n",
       "      <td>1</td>\n",
       "    </tr>\n",
       "    <tr>\n",
       "      <th>2</th>\n",
       "      <td>1036</td>\n",
       "      <td>1</td>\n",
       "      <td>5/31/2016</td>\n",
       "      <td>1070</td>\n",
       "      <td>1</td>\n",
       "      <td>1</td>\n",
       "      <td>0</td>\n",
       "      <td>0</td>\n",
       "    </tr>\n",
       "    <tr>\n",
       "      <th>3</th>\n",
       "      <td>1047</td>\n",
       "      <td>1</td>\n",
       "      <td>5/31/2016</td>\n",
       "      <td>2043</td>\n",
       "      <td>1</td>\n",
       "      <td>1</td>\n",
       "      <td>0</td>\n",
       "      <td>0</td>\n",
       "    </tr>\n",
       "    <tr>\n",
       "      <th>4</th>\n",
       "      <td>1012</td>\n",
       "      <td>1</td>\n",
       "      <td>5/31/2016</td>\n",
       "      <td>1239</td>\n",
       "      <td>1</td>\n",
       "      <td>1</td>\n",
       "      <td>0</td>\n",
       "      <td>0</td>\n",
       "    </tr>\n",
       "  </tbody>\n",
       "</table>\n",
       "</div>"
      ],
      "text/plain": [
       "   Store  Day Of Week       Date  Customers  Open  Promotion State Holiday  \\\n",
       "0   1044            1  5/31/2016        884     1          1             0   \n",
       "1   1041            1  5/31/2016       1032     1          1             0   \n",
       "2   1036            1  5/31/2016       1070     1          1             0   \n",
       "3   1047            1  5/31/2016       2043     1          1             0   \n",
       "4   1012            1  5/31/2016       1239     1          1             0   \n",
       "\n",
       "   School Holiday  \n",
       "0               0  \n",
       "1               1  \n",
       "2               0  \n",
       "3               0  \n",
       "4               0  "
      ]
     },
     "execution_count": 79,
     "metadata": {},
     "output_type": "execute_result"
    }
   ],
   "source": [
    "# Import data \n",
    "df = pd.read_excel('Store_50-1.xlsx')\n",
    "df.head()"
   ]
  },
  {
   "cell_type": "code",
   "execution_count": 80,
   "id": "1b113a36",
   "metadata": {},
   "outputs": [
    {
     "data": {
      "text/html": [
       "<div>\n",
       "<style scoped>\n",
       "    .dataframe tbody tr th:only-of-type {\n",
       "        vertical-align: middle;\n",
       "    }\n",
       "\n",
       "    .dataframe tbody tr th {\n",
       "        vertical-align: top;\n",
       "    }\n",
       "\n",
       "    .dataframe thead th {\n",
       "        text-align: right;\n",
       "    }\n",
       "</style>\n",
       "<table border=\"1\" class=\"dataframe\">\n",
       "  <thead>\n",
       "    <tr style=\"text-align: right;\">\n",
       "      <th></th>\n",
       "      <th>Store</th>\n",
       "      <th>Day Of Week</th>\n",
       "      <th>Customers</th>\n",
       "      <th>Open</th>\n",
       "      <th>Promotion</th>\n",
       "      <th>State Holiday</th>\n",
       "      <th>School Holiday</th>\n",
       "    </tr>\n",
       "    <tr>\n",
       "      <th>Date</th>\n",
       "      <th></th>\n",
       "      <th></th>\n",
       "      <th></th>\n",
       "      <th></th>\n",
       "      <th></th>\n",
       "      <th></th>\n",
       "      <th></th>\n",
       "    </tr>\n",
       "  </thead>\n",
       "  <tbody>\n",
       "    <tr>\n",
       "      <th>2016-05-31</th>\n",
       "      <td>1044</td>\n",
       "      <td>1</td>\n",
       "      <td>884</td>\n",
       "      <td>1</td>\n",
       "      <td>1</td>\n",
       "      <td>0</td>\n",
       "      <td>0</td>\n",
       "    </tr>\n",
       "    <tr>\n",
       "      <th>2016-05-31</th>\n",
       "      <td>1041</td>\n",
       "      <td>1</td>\n",
       "      <td>1032</td>\n",
       "      <td>1</td>\n",
       "      <td>1</td>\n",
       "      <td>0</td>\n",
       "      <td>1</td>\n",
       "    </tr>\n",
       "    <tr>\n",
       "      <th>2016-05-31</th>\n",
       "      <td>1036</td>\n",
       "      <td>1</td>\n",
       "      <td>1070</td>\n",
       "      <td>1</td>\n",
       "      <td>1</td>\n",
       "      <td>0</td>\n",
       "      <td>0</td>\n",
       "    </tr>\n",
       "    <tr>\n",
       "      <th>2016-05-31</th>\n",
       "      <td>1047</td>\n",
       "      <td>1</td>\n",
       "      <td>2043</td>\n",
       "      <td>1</td>\n",
       "      <td>1</td>\n",
       "      <td>0</td>\n",
       "      <td>0</td>\n",
       "    </tr>\n",
       "    <tr>\n",
       "      <th>2016-05-31</th>\n",
       "      <td>1012</td>\n",
       "      <td>1</td>\n",
       "      <td>1239</td>\n",
       "      <td>1</td>\n",
       "      <td>1</td>\n",
       "      <td>0</td>\n",
       "      <td>0</td>\n",
       "    </tr>\n",
       "  </tbody>\n",
       "</table>\n",
       "</div>"
      ],
      "text/plain": [
       "            Store  Day Of Week  Customers  Open  Promotion State Holiday  \\\n",
       "Date                                                                       \n",
       "2016-05-31   1044            1        884     1          1             0   \n",
       "2016-05-31   1041            1       1032     1          1             0   \n",
       "2016-05-31   1036            1       1070     1          1             0   \n",
       "2016-05-31   1047            1       2043     1          1             0   \n",
       "2016-05-31   1012            1       1239     1          1             0   \n",
       "\n",
       "            School Holiday  \n",
       "Date                        \n",
       "2016-05-31               0  \n",
       "2016-05-31               1  \n",
       "2016-05-31               0  \n",
       "2016-05-31               0  \n",
       "2016-05-31               0  "
      ]
     },
     "execution_count": 80,
     "metadata": {},
     "output_type": "execute_result"
    }
   ],
   "source": [
    "df = pd.read_excel('Store_50-1.xlsx', parse_dates = True, index_col = 'Date')\n",
    "df.head()"
   ]
  },
  {
   "cell_type": "code",
   "execution_count": 81,
   "id": "cd885273",
   "metadata": {},
   "outputs": [
    {
     "data": {
      "text/plain": [
       "DatetimeIndex(['2016-05-31', '2016-05-31', '2016-05-31', '2016-05-31',\n",
       "               '2016-05-31', '2016-05-31', '2016-05-31', '2016-05-31',\n",
       "               '2016-05-31', '2016-05-31',\n",
       "               ...\n",
       "               '2014-01-01', '2014-01-01', '2014-01-01', '2014-01-01',\n",
       "               '2014-01-01', '2014-01-01', '2014-01-01', '2014-01-01',\n",
       "               '2014-01-01', '2014-01-01'],\n",
       "              dtype='datetime64[ns]', name='Date', length=43326, freq=None)"
      ]
     },
     "execution_count": 81,
     "metadata": {},
     "output_type": "execute_result"
    }
   ],
   "source": [
    "# Check if the date has been defined as an index\n",
    "df.index"
   ]
  },
  {
   "cell_type": "code",
   "execution_count": 82,
   "id": "952ea166",
   "metadata": {},
   "outputs": [
    {
     "data": {
      "text/plain": [
       "(43326, 7)"
      ]
     },
     "execution_count": 82,
     "metadata": {},
     "output_type": "execute_result"
    }
   ],
   "source": [
    "df.shape"
   ]
  },
  {
   "cell_type": "markdown",
   "id": "67e24c8d",
   "metadata": {},
   "source": [
    "<a id=\"eda\"><a>\n",
    "<table align=\"center\" width=100%>\n",
    "    <tr>\n",
    "        <td>\n",
    "            <div align=\"left\">\n",
    "                <font color=\"#21619\" size=5px>                   \n",
    "                    <b>  EXPLORATORY DATA ANALYSIS\n",
    "                    </b>\n",
    "                </font>\n",
    "            </div>\n",
    "        </td>\n",
    "    </tr>\n",
    "</table>"
   ]
  },
  {
   "cell_type": "code",
   "execution_count": 83,
   "id": "fcdde5eb",
   "metadata": {},
   "outputs": [
    {
     "data": {
      "text/html": [
       "<div>\n",
       "<style scoped>\n",
       "    .dataframe tbody tr th:only-of-type {\n",
       "        vertical-align: middle;\n",
       "    }\n",
       "\n",
       "    .dataframe tbody tr th {\n",
       "        vertical-align: top;\n",
       "    }\n",
       "\n",
       "    .dataframe thead th {\n",
       "        text-align: right;\n",
       "    }\n",
       "</style>\n",
       "<table border=\"1\" class=\"dataframe\">\n",
       "  <thead>\n",
       "    <tr style=\"text-align: right;\">\n",
       "      <th></th>\n",
       "      <th>Store</th>\n",
       "      <th>Day Of Week</th>\n",
       "      <th>Customers</th>\n",
       "      <th>Open</th>\n",
       "      <th>Promotion</th>\n",
       "      <th>State Holiday</th>\n",
       "      <th>School Holiday</th>\n",
       "      <th>Year</th>\n",
       "      <th>Month</th>\n",
       "      <th>Day</th>\n",
       "      <th>WeekOfYear</th>\n",
       "    </tr>\n",
       "    <tr>\n",
       "      <th>Date</th>\n",
       "      <th></th>\n",
       "      <th></th>\n",
       "      <th></th>\n",
       "      <th></th>\n",
       "      <th></th>\n",
       "      <th></th>\n",
       "      <th></th>\n",
       "      <th></th>\n",
       "      <th></th>\n",
       "      <th></th>\n",
       "      <th></th>\n",
       "    </tr>\n",
       "  </thead>\n",
       "  <tbody>\n",
       "    <tr>\n",
       "      <th>2016-05-31</th>\n",
       "      <td>1044</td>\n",
       "      <td>1</td>\n",
       "      <td>884</td>\n",
       "      <td>1</td>\n",
       "      <td>1</td>\n",
       "      <td>0</td>\n",
       "      <td>0</td>\n",
       "      <td>2016</td>\n",
       "      <td>5</td>\n",
       "      <td>31</td>\n",
       "      <td>22</td>\n",
       "    </tr>\n",
       "    <tr>\n",
       "      <th>2016-05-31</th>\n",
       "      <td>1041</td>\n",
       "      <td>1</td>\n",
       "      <td>1032</td>\n",
       "      <td>1</td>\n",
       "      <td>1</td>\n",
       "      <td>0</td>\n",
       "      <td>1</td>\n",
       "      <td>2016</td>\n",
       "      <td>5</td>\n",
       "      <td>31</td>\n",
       "      <td>22</td>\n",
       "    </tr>\n",
       "    <tr>\n",
       "      <th>2016-05-31</th>\n",
       "      <td>1036</td>\n",
       "      <td>1</td>\n",
       "      <td>1070</td>\n",
       "      <td>1</td>\n",
       "      <td>1</td>\n",
       "      <td>0</td>\n",
       "      <td>0</td>\n",
       "      <td>2016</td>\n",
       "      <td>5</td>\n",
       "      <td>31</td>\n",
       "      <td>22</td>\n",
       "    </tr>\n",
       "    <tr>\n",
       "      <th>2016-05-31</th>\n",
       "      <td>1047</td>\n",
       "      <td>1</td>\n",
       "      <td>2043</td>\n",
       "      <td>1</td>\n",
       "      <td>1</td>\n",
       "      <td>0</td>\n",
       "      <td>0</td>\n",
       "      <td>2016</td>\n",
       "      <td>5</td>\n",
       "      <td>31</td>\n",
       "      <td>22</td>\n",
       "    </tr>\n",
       "    <tr>\n",
       "      <th>2016-05-31</th>\n",
       "      <td>1012</td>\n",
       "      <td>1</td>\n",
       "      <td>1239</td>\n",
       "      <td>1</td>\n",
       "      <td>1</td>\n",
       "      <td>0</td>\n",
       "      <td>0</td>\n",
       "      <td>2016</td>\n",
       "      <td>5</td>\n",
       "      <td>31</td>\n",
       "      <td>22</td>\n",
       "    </tr>\n",
       "  </tbody>\n",
       "</table>\n",
       "</div>"
      ],
      "text/plain": [
       "            Store  Day Of Week  Customers  Open  Promotion State Holiday  \\\n",
       "Date                                                                       \n",
       "2016-05-31   1044            1        884     1          1             0   \n",
       "2016-05-31   1041            1       1032     1          1             0   \n",
       "2016-05-31   1036            1       1070     1          1             0   \n",
       "2016-05-31   1047            1       2043     1          1             0   \n",
       "2016-05-31   1012            1       1239     1          1             0   \n",
       "\n",
       "            School Holiday  Year  Month  Day  WeekOfYear  \n",
       "Date                                                      \n",
       "2016-05-31               0  2016      5   31          22  \n",
       "2016-05-31               1  2016      5   31          22  \n",
       "2016-05-31               0  2016      5   31          22  \n",
       "2016-05-31               0  2016      5   31          22  \n",
       "2016-05-31               0  2016      5   31          22  "
      ]
     },
     "execution_count": 83,
     "metadata": {},
     "output_type": "execute_result"
    }
   ],
   "source": [
    "# Extracting some additional features\n",
    "df['Year'] = df.index.year\n",
    "df['Month'] = df.index.month\n",
    "df['Day'] = df.index.day\n",
    "df['WeekOfYear'] = df.index.weekofyear\n",
    "df.head()"
   ]
  },
  {
   "cell_type": "markdown",
   "id": "b2555501",
   "metadata": {},
   "source": [
    "<a id=\"eda\"><a>\n",
    "<table align=\"center\" width=100%>\n",
    "    <tr>\n",
    "        <td>\n",
    "            <div align=\"left\">\n",
    "                <font color=\"#21619\" size=2px>                   \n",
    "                    <b>  Empirical Cumulative Distribution Plot\n",
    "                    </b>\n",
    "                </font>\n",
    "            </div>\n",
    "        </td>\n",
    "    </tr>\n",
    "</table>"
   ]
  },
  {
   "cell_type": "code",
   "execution_count": 84,
   "id": "bcd9d2cf",
   "metadata": {},
   "outputs": [
    {
     "data": {
      "image/png": "[encoded data removed]",
      "text/plain": [
       "<Figure size 720x720 with 1 Axes>"
      ]
     },
     "metadata": {},
     "output_type": "display_data"
    }
   ],
   "source": [
    "# Plot ECDF: Empirical Cumulative Distribution Function\n",
    "sns.set(style = 'ticks')\n",
    "c = '#386B7F'\n",
    "plt.figure(figsize = (10,10))\n",
    "\n",
    "plt.subplot(312)\n",
    "cdf = ECDF(df['Customers'])\n",
    "plt.plot(cdf.x, cdf.y, label='statmodels', color = c)\n",
    "plt.xlabel('Customers')\n",
    "plt.show()"
   ]
  },
  {
   "cell_type": "markdown",
   "id": "3647b93d",
   "metadata": {},
   "source": [
    "About 20% of the days we see zero customers. Maybe the store was closed on that day."
   ]
  },
  {
   "cell_type": "markdown",
   "id": "026a4085",
   "metadata": {},
   "source": [
    "<a id=\"eda\"><a>\n",
    "<table align=\"center\" width=100%>\n",
    "    <tr>\n",
    "        <td>\n",
    "            <div align=\"left\">\n",
    "                <font color=\"#21619\" size=2px>                   \n",
    "                    <b>  Check if we have records where the store was open and customer fall was zero\n",
    "                    </b>\n",
    "                </font>\n",
    "            </div>\n",
    "        </td>\n",
    "    </tr>\n",
    "</table>"
   ]
  },
  {
   "cell_type": "code",
   "execution_count": 85,
   "id": "f3b96640",
   "metadata": {},
   "outputs": [
    {
     "data": {
      "text/html": [
       "<div>\n",
       "<style scoped>\n",
       "    .dataframe tbody tr th:only-of-type {\n",
       "        vertical-align: middle;\n",
       "    }\n",
       "\n",
       "    .dataframe tbody tr th {\n",
       "        vertical-align: top;\n",
       "    }\n",
       "\n",
       "    .dataframe thead th {\n",
       "        text-align: right;\n",
       "    }\n",
       "</style>\n",
       "<table border=\"1\" class=\"dataframe\">\n",
       "  <thead>\n",
       "    <tr style=\"text-align: right;\">\n",
       "      <th></th>\n",
       "      <th>Store</th>\n",
       "      <th>Day Of Week</th>\n",
       "      <th>Customers</th>\n",
       "      <th>Open</th>\n",
       "      <th>Promotion</th>\n",
       "      <th>State Holiday</th>\n",
       "      <th>School Holiday</th>\n",
       "      <th>Year</th>\n",
       "      <th>Month</th>\n",
       "      <th>Day</th>\n",
       "      <th>WeekOfYear</th>\n",
       "    </tr>\n",
       "    <tr>\n",
       "      <th>Date</th>\n",
       "      <th></th>\n",
       "      <th></th>\n",
       "      <th></th>\n",
       "      <th></th>\n",
       "      <th></th>\n",
       "      <th></th>\n",
       "      <th></th>\n",
       "      <th></th>\n",
       "      <th></th>\n",
       "      <th></th>\n",
       "      <th></th>\n",
       "    </tr>\n",
       "  </thead>\n",
       "  <tbody>\n",
       "    <tr>\n",
       "      <th>2015-02-13</th>\n",
       "      <td>1047</td>\n",
       "      <td>4</td>\n",
       "      <td>0</td>\n",
       "      <td>1</td>\n",
       "      <td>0</td>\n",
       "      <td>0</td>\n",
       "      <td>0</td>\n",
       "      <td>2015</td>\n",
       "      <td>2</td>\n",
       "      <td>13</td>\n",
       "      <td>7</td>\n",
       "    </tr>\n",
       "    <tr>\n",
       "      <th>2015-12-02</th>\n",
       "      <td>1047</td>\n",
       "      <td>3</td>\n",
       "      <td>0</td>\n",
       "      <td>1</td>\n",
       "      <td>0</td>\n",
       "      <td>0</td>\n",
       "      <td>0</td>\n",
       "      <td>2015</td>\n",
       "      <td>12</td>\n",
       "      <td>2</td>\n",
       "      <td>49</td>\n",
       "    </tr>\n",
       "    <tr>\n",
       "      <th>2014-07-02</th>\n",
       "      <td>1011</td>\n",
       "      <td>4</td>\n",
       "      <td>0</td>\n",
       "      <td>1</td>\n",
       "      <td>1</td>\n",
       "      <td>0</td>\n",
       "      <td>0</td>\n",
       "      <td>2014</td>\n",
       "      <td>7</td>\n",
       "      <td>2</td>\n",
       "      <td>27</td>\n",
       "    </tr>\n",
       "  </tbody>\n",
       "</table>\n",
       "</div>"
      ],
      "text/plain": [
       "            Store  Day Of Week  Customers  Open  Promotion State Holiday  \\\n",
       "Date                                                                       \n",
       "2015-02-13   1047            4          0     1          0             0   \n",
       "2015-12-02   1047            3          0     1          0             0   \n",
       "2014-07-02   1011            4          0     1          1             0   \n",
       "\n",
       "            School Holiday  Year  Month  Day  WeekOfYear  \n",
       "Date                                                      \n",
       "2015-02-13               0  2015      2   13           7  \n",
       "2015-12-02               0  2015     12    2          49  \n",
       "2014-07-02               0  2014      7    2          27  "
      ]
     },
     "execution_count": 85,
     "metadata": {},
     "output_type": "execute_result"
    }
   ],
   "source": [
    "df[(df.Open ==1) & (df.Customers == 0)]"
   ]
  },
  {
   "cell_type": "markdown",
   "id": "93069f8e",
   "metadata": {},
   "source": [
    "As such records are less and we do not know the specific reason why there was no customer even if the store was open, we are not deleting such records."
   ]
  },
  {
   "cell_type": "markdown",
   "id": "046f5d57",
   "metadata": {},
   "source": [
    "<a id=\"eda\"><a>\n",
    "<table align=\"center\" width=100%>\n",
    "    <tr>\n",
    "        <td>\n",
    "            <div align=\"left\">\n",
    "                <font color=\"#21619\" size=2px>                   \n",
    "                    <b>  Check for missing values\n",
    "                    </b>\n",
    "                </font>\n",
    "            </div>\n",
    "        </td>\n",
    "    </tr>\n",
    "</table>"
   ]
  },
  {
   "cell_type": "code",
   "execution_count": 86,
   "id": "8c6f0b52",
   "metadata": {
    "scrolled": false
   },
   "outputs": [
    {
     "data": {
      "text/plain": [
       "Store             0\n",
       "Day Of Week       0\n",
       "Customers         0\n",
       "Open              0\n",
       "Promotion         0\n",
       "State Holiday     0\n",
       "School Holiday    0\n",
       "Year              0\n",
       "Month             0\n",
       "Day               0\n",
       "WeekOfYear        0\n",
       "dtype: int64"
      ]
     },
     "execution_count": 86,
     "metadata": {},
     "output_type": "execute_result"
    }
   ],
   "source": [
    "df.isnull().sum()"
   ]
  },
  {
   "cell_type": "markdown",
   "id": "d92bf2aa",
   "metadata": {},
   "source": [
    "No missing values are present in the data"
   ]
  },
  {
   "cell_type": "code",
   "execution_count": 87,
   "id": "27e9a83e",
   "metadata": {},
   "outputs": [],
   "source": [
    "# Rename columns to remove space\n",
    "df.rename( columns = {\n",
    "    'Day Of Week': 'DayOfWeek', 'State Holiday': 'StateHoliday',\n",
    "    'School Holiday': 'SchoolHoliday'}, inplace = True)"
   ]
  },
  {
   "cell_type": "code",
   "execution_count": 88,
   "id": "7a1547d9",
   "metadata": {},
   "outputs": [
    {
     "data": {
      "text/html": [
       "<div>\n",
       "<style scoped>\n",
       "    .dataframe tbody tr th:only-of-type {\n",
       "        vertical-align: middle;\n",
       "    }\n",
       "\n",
       "    .dataframe tbody tr th {\n",
       "        vertical-align: top;\n",
       "    }\n",
       "\n",
       "    .dataframe thead th {\n",
       "        text-align: right;\n",
       "    }\n",
       "</style>\n",
       "<table border=\"1\" class=\"dataframe\">\n",
       "  <thead>\n",
       "    <tr style=\"text-align: right;\">\n",
       "      <th></th>\n",
       "      <th>Store</th>\n",
       "      <th>DayOfWeek</th>\n",
       "      <th>Customers</th>\n",
       "      <th>Open</th>\n",
       "      <th>Promotion</th>\n",
       "      <th>StateHoliday</th>\n",
       "      <th>SchoolHoliday</th>\n",
       "      <th>Year</th>\n",
       "      <th>Month</th>\n",
       "      <th>Day</th>\n",
       "      <th>WeekOfYear</th>\n",
       "    </tr>\n",
       "    <tr>\n",
       "      <th>Date</th>\n",
       "      <th></th>\n",
       "      <th></th>\n",
       "      <th></th>\n",
       "      <th></th>\n",
       "      <th></th>\n",
       "      <th></th>\n",
       "      <th></th>\n",
       "      <th></th>\n",
       "      <th></th>\n",
       "      <th></th>\n",
       "      <th></th>\n",
       "    </tr>\n",
       "  </thead>\n",
       "  <tbody>\n",
       "    <tr>\n",
       "      <th>2016-05-31</th>\n",
       "      <td>1044</td>\n",
       "      <td>1</td>\n",
       "      <td>884</td>\n",
       "      <td>1</td>\n",
       "      <td>1</td>\n",
       "      <td>0</td>\n",
       "      <td>0</td>\n",
       "      <td>2016</td>\n",
       "      <td>5</td>\n",
       "      <td>31</td>\n",
       "      <td>22</td>\n",
       "    </tr>\n",
       "    <tr>\n",
       "      <th>2016-05-31</th>\n",
       "      <td>1041</td>\n",
       "      <td>1</td>\n",
       "      <td>1032</td>\n",
       "      <td>1</td>\n",
       "      <td>1</td>\n",
       "      <td>0</td>\n",
       "      <td>1</td>\n",
       "      <td>2016</td>\n",
       "      <td>5</td>\n",
       "      <td>31</td>\n",
       "      <td>22</td>\n",
       "    </tr>\n",
       "    <tr>\n",
       "      <th>2016-05-31</th>\n",
       "      <td>1036</td>\n",
       "      <td>1</td>\n",
       "      <td>1070</td>\n",
       "      <td>1</td>\n",
       "      <td>1</td>\n",
       "      <td>0</td>\n",
       "      <td>0</td>\n",
       "      <td>2016</td>\n",
       "      <td>5</td>\n",
       "      <td>31</td>\n",
       "      <td>22</td>\n",
       "    </tr>\n",
       "    <tr>\n",
       "      <th>2016-05-31</th>\n",
       "      <td>1047</td>\n",
       "      <td>1</td>\n",
       "      <td>2043</td>\n",
       "      <td>1</td>\n",
       "      <td>1</td>\n",
       "      <td>0</td>\n",
       "      <td>0</td>\n",
       "      <td>2016</td>\n",
       "      <td>5</td>\n",
       "      <td>31</td>\n",
       "      <td>22</td>\n",
       "    </tr>\n",
       "    <tr>\n",
       "      <th>2016-05-31</th>\n",
       "      <td>1012</td>\n",
       "      <td>1</td>\n",
       "      <td>1239</td>\n",
       "      <td>1</td>\n",
       "      <td>1</td>\n",
       "      <td>0</td>\n",
       "      <td>0</td>\n",
       "      <td>2016</td>\n",
       "      <td>5</td>\n",
       "      <td>31</td>\n",
       "      <td>22</td>\n",
       "    </tr>\n",
       "  </tbody>\n",
       "</table>\n",
       "</div>"
      ],
      "text/plain": [
       "            Store  DayOfWeek  Customers  Open  Promotion StateHoliday  \\\n",
       "Date                                                                    \n",
       "2016-05-31   1044          1        884     1          1            0   \n",
       "2016-05-31   1041          1       1032     1          1            0   \n",
       "2016-05-31   1036          1       1070     1          1            0   \n",
       "2016-05-31   1047          1       2043     1          1            0   \n",
       "2016-05-31   1012          1       1239     1          1            0   \n",
       "\n",
       "            SchoolHoliday  Year  Month  Day  WeekOfYear  \n",
       "Date                                                     \n",
       "2016-05-31              0  2016      5   31          22  \n",
       "2016-05-31              1  2016      5   31          22  \n",
       "2016-05-31              0  2016      5   31          22  \n",
       "2016-05-31              0  2016      5   31          22  \n",
       "2016-05-31              0  2016      5   31          22  "
      ]
     },
     "execution_count": 88,
     "metadata": {},
     "output_type": "execute_result"
    }
   ],
   "source": [
    "df.head()"
   ]
  },
  {
   "cell_type": "code",
   "execution_count": 89,
   "id": "13c771c2",
   "metadata": {},
   "outputs": [
    {
     "name": "stdout",
     "output_type": "stream",
     "text": [
      "<class 'pandas.core.frame.DataFrame'>\n",
      "DatetimeIndex: 43326 entries, 2016-05-31 to 2014-01-01\n",
      "Data columns (total 11 columns):\n",
      " #   Column         Non-Null Count  Dtype \n",
      "---  ------         --------------  ----- \n",
      " 0   Store          43326 non-null  int64 \n",
      " 1   DayOfWeek      43326 non-null  int64 \n",
      " 2   Customers      43326 non-null  int64 \n",
      " 3   Open           43326 non-null  int64 \n",
      " 4   Promotion      43326 non-null  int64 \n",
      " 5   StateHoliday   43326 non-null  object\n",
      " 6   SchoolHoliday  43326 non-null  int64 \n",
      " 7   Year           43326 non-null  int64 \n",
      " 8   Month          43326 non-null  int64 \n",
      " 9   Day            43326 non-null  int64 \n",
      " 10  WeekOfYear     43326 non-null  int64 \n",
      "dtypes: int64(10), object(1)\n",
      "memory usage: 4.0+ MB\n"
     ]
    }
   ],
   "source": [
    "df.info()"
   ]
  },
  {
   "cell_type": "markdown",
   "id": "8782e6cc",
   "metadata": {},
   "source": [
    "<a id=\"eda\"><a>\n",
    "<table align=\"center\" width=100%>\n",
    "    <tr>\n",
    "        <td>\n",
    "            <div align=\"left\">\n",
    "                <font color=\"#21619\" size=2px>                   \n",
    "                    <b>  Trend Analysis: based on day of week and promotion\n",
    "                    </b>\n",
    "                </font>\n",
    "            </div>\n",
    "        </td>\n",
    "    </tr>\n",
    "</table>"
   ]
  },
  {
   "cell_type": "code",
   "execution_count": 90,
   "id": "2c082c56",
   "metadata": {},
   "outputs": [
    {
     "data": {
      "image/png": "[encoded data removed]",
      "text/plain": [
       "<Figure size 2520x720 with 14 Axes>"
      ]
     },
     "metadata": {},
     "output_type": "display_data"
    }
   ],
   "source": [
    "#Customer trends based on day of week and promotion\n",
    "sns.catplot( data = df, x = 'Month', y = 'Customers',\n",
    "           col = 'DayOfWeek', palette = 'plasma', row='Promotion',\n",
    "           kind = 'box', color = c)\n",
    "plt.show()"
   ]
  },
  {
   "cell_type": "markdown",
   "id": "20970e84",
   "metadata": {
    "colab": {},
    "colab_type": "code",
    "id": "kQQ4PZ7V1J0q"
   },
   "source": [
    "Impact of the promotion is clearly visible even across month.. Day1 , Month 1, Promotion=1, customer count is high. However for December, no impact of promotion."
   ]
  },
  {
   "cell_type": "markdown",
   "id": "667b101a",
   "metadata": {},
   "source": [
    "<a id=\"eda\"><a>\n",
    "<table align=\"center\" width=100%>\n",
    "    <tr>\n",
    "        <td>\n",
    "            <div align=\"left\">\n",
    "                <font color=\"#21619\" size=2px>                   \n",
    "                    <b>  Check the stores which are open on Sundays\n",
    "                    </b>\n",
    "                </font>\n",
    "            </div>\n",
    "        </td>\n",
    "    </tr>\n",
    "</table>"
   ]
  },
  {
   "cell_type": "code",
   "execution_count": 91,
   "id": "4c55c72a",
   "metadata": {},
   "outputs": [
    {
     "data": {
      "text/plain": [
       "array([1011, 1016, 1015], dtype=int64)"
      ]
     },
     "execution_count": 91,
     "metadata": {},
     "output_type": "execute_result"
    }
   ],
   "source": [
    "# Check the stores which are open on Sundays\n",
    "df[(df.Open == 1) & (df.DayOfWeek == 7)]['Store'].unique()"
   ]
  },
  {
   "cell_type": "markdown",
   "id": "89b21578",
   "metadata": {},
   "source": [
    "<a id=\"eda\"><a>\n",
    "<table align=\"center\" width=100%>\n",
    "    <tr>\n",
    "        <td>\n",
    "            <div align=\"left\">\n",
    "                <font color=\"#21619\" size=2px>                   \n",
    "                    <b>  Trend Analysis: for different days of week\n",
    "                    </b>\n",
    "                </font>\n",
    "            </div>\n",
    "        </td>\n",
    "    </tr>\n",
    "</table>"
   ]
  },
  {
   "cell_type": "code",
   "execution_count": 92,
   "id": "06806c1c",
   "metadata": {
    "scrolled": false
   },
   "outputs": [
    {
     "data": {
      "image/png": "[encoded data removed]",
      "text/plain": [
       "<Figure size 1080x288 with 1 Axes>"
      ]
     },
     "metadata": {},
     "output_type": "display_data"
    }
   ],
   "source": [
    "fig, axis1 = plt.subplots(1,1, figsize = (15,4))\n",
    "sns.countplot(x = 'Open', hue = 'DayOfWeek', data = df, palette = 'husl', ax = axis1)\n",
    "plt.show()"
   ]
  },
  {
   "cell_type": "markdown",
   "id": "9548e1ac",
   "metadata": {},
   "source": [
    "Even when the store was closed we see that the footfall count was high on Sunday. Even for other days when the store was not open, the count of customers is not zero."
   ]
  },
  {
   "cell_type": "markdown",
   "id": "1c888fa4",
   "metadata": {},
   "source": [
    "<a id=\"eda\"><a>\n",
    "<table align=\"center\" width=100%>\n",
    "    <tr>\n",
    "        <td>\n",
    "            <div align=\"left\">\n",
    "                <font color=\"#21619\" size=2px>                   \n",
    "                    <b>  Plot average Customers over time(year-month) & percent change in customers\n",
    "                    </b>\n",
    "                </font>\n",
    "            </div>\n",
    "        </td>\n",
    "    </tr>\n",
    "</table>"
   ]
  },
  {
   "cell_type": "code",
   "execution_count": 93,
   "id": "73a88296",
   "metadata": {
    "ExecuteTime": {
     "end_time": "2020-06-24T07:50:39.294995Z",
     "start_time": "2020-06-24T07:50:38.063292Z"
    },
    "colab": {
     "base_uri": "https://localhost:8080/",
     "height": 536
    },
    "colab_type": "code",
    "id": "-u1HPhuf1J1T",
    "outputId": "e5e705d1-cb2c-401e-ebf9-def9dd044d85"
   },
   "outputs": [
    {
     "data": {
      "image/png": "[encoded data removed]",
      "text/plain": [
       "<Figure size 1080x576 with 2 Axes>"
      ]
     },
     "metadata": {},
     "output_type": "display_data"
    }
   ],
   "source": [
    "# group by date and get average Customers, and precent change\n",
    "average_customers    = df.groupby('Date')[\"Customers\"].mean()\n",
    "pct_change_customers = df.groupby('Date')[\"Customers\"].sum().pct_change()\n",
    "\n",
    "fig, (axis1,axis2) = plt.subplots(2,1,sharex=True,figsize=(15,8))\n",
    "\n",
    "# plot average Customers over time(year-month)\n",
    "ax1 = average_customers.plot(legend=True,ax=axis1,marker='o',title=\"Average Customers\")\n",
    "ax1.set_xticks(range(len(average_customers)))\n",
    "ax1.set_xticklabels(average_customers.index.tolist(), rotation=90)\n",
    "# plot precent change for Customers over time(year-month)\n",
    "ax2 = pct_change_customers.plot(legend=True,ax=axis2,marker='o',rot=90,colormap=\"summer\",title=\"Customer Percent Change\")\n"
   ]
  },
  {
   "cell_type": "markdown",
   "id": "474160e9",
   "metadata": {
    "colab": {},
    "colab_type": "code",
    "id": "SwkrCkWq1J1b"
   },
   "source": [
    " Much of the variation is visible across specific days of the week and specific months in a year."
   ]
  },
  {
   "cell_type": "markdown",
   "id": "aaab0483",
   "metadata": {},
   "source": [
    "<a id=\"eda\"><a>\n",
    "<table align=\"center\" width=100%>\n",
    "    <tr>\n",
    "        <td>\n",
    "            <div align=\"left\">\n",
    "                <font color=\"#21619\" size=2px>                   \n",
    "                    <b>  Plot average customers for every year\n",
    "                    </b>\n",
    "                </font>\n",
    "            </div>\n",
    "        </td>\n",
    "    </tr>\n",
    "</table>"
   ]
  },
  {
   "cell_type": "code",
   "execution_count": 94,
   "id": "716c18f8",
   "metadata": {},
   "outputs": [
    {
     "data": {
      "image/png": "[encoded data removed]",
      "text/plain": [
       "<Figure size 1080x288 with 1 Axes>"
      ]
     },
     "metadata": {},
     "output_type": "display_data"
    }
   ],
   "source": [
    "plt.figure(figsize = (15,4))\n",
    "sns.barplot(x='Year', y = 'Customers', data = df)\n",
    "plt.show()"
   ]
  },
  {
   "cell_type": "markdown",
   "id": "932f4165",
   "metadata": {
    "colab": {},
    "colab_type": "code",
    "id": "5dE-gN-q1J1q"
   },
   "source": [
    "There is not much variation for the customer footfall per year."
   ]
  },
  {
   "cell_type": "markdown",
   "id": "ff0168a8",
   "metadata": {},
   "source": [
    "<a id=\"eda\"><a>\n",
    "<table align=\"center\" width=100%>\n",
    "    <tr>\n",
    "        <td>\n",
    "            <div align=\"left\">\n",
    "                <font color=\"#21619\" size=2px>                   \n",
    "                    <b>  Plot average customers with and without promotion\n",
    "                    </b>\n",
    "                </font>\n",
    "            </div>\n",
    "        </td>\n",
    "    </tr>\n",
    "</table>"
   ]
  },
  {
   "cell_type": "code",
   "execution_count": 95,
   "id": "da21e4f4",
   "metadata": {
    "ExecuteTime": {
     "end_time": "2020-06-24T07:50:40.080542Z",
     "start_time": "2020-06-24T07:50:39.713505Z"
    },
    "colab": {
     "base_uri": "https://localhost:8080/",
     "height": 285
    },
    "colab_type": "code",
    "id": "HfRd-OL71J10",
    "outputId": "57a8a306-990b-41a9-d224-7cd648b9c8a6"
   },
   "outputs": [
    {
     "data": {
      "image/png": "[encoded data removed]",
      "text/plain": [
       "<Figure size 1080x288 with 1 Axes>"
      ]
     },
     "metadata": {},
     "output_type": "display_data"
    }
   ],
   "source": [
    "fig, axis1 = plt.subplots(1,figsize=(15,4))\n",
    "\n",
    "sns.barplot(x='Promotion', y='Customers', data=df, ax=axis1);\n",
    "plt.show()"
   ]
  },
  {
   "cell_type": "markdown",
   "id": "027703f1",
   "metadata": {
    "colab": {},
    "colab_type": "code",
    "id": "loZfCtsH1J18"
   },
   "source": [
    "Having a Promotion does have an impact on the customer count."
   ]
  },
  {
   "cell_type": "markdown",
   "id": "e191fd0f",
   "metadata": {},
   "source": [
    "<a id=\"eda\"><a>\n",
    "<table align=\"center\" width=100%>\n",
    "    <tr>\n",
    "        <td>\n",
    "            <div align=\"left\">\n",
    "                <font color=\"#21619\" size=2px>                   \n",
    "                    <b>  State Holiday\n",
    "                    </b>\n",
    "                </font>\n",
    "            </div>\n",
    "        </td>\n",
    "    </tr>\n",
    "</table>"
   ]
  },
  {
   "cell_type": "code",
   "execution_count": 96,
   "id": "3acc7fb9",
   "metadata": {
    "ExecuteTime": {
     "end_time": "2020-06-24T07:50:40.422537Z",
     "start_time": "2020-06-24T07:50:40.082355Z"
    },
    "colab": {
     "base_uri": "https://localhost:8080/",
     "height": 557
    },
    "colab_type": "code",
    "id": "rO60yQOX1J2K",
    "outputId": "6171cc6a-25fd-48c3-d359-35d9d878cc76"
   },
   "outputs": [
    {
     "data": {
      "image/png": "[encoded data removed]",
      "text/plain": [
       "<Figure size 432x288 with 1 Axes>"
      ]
     },
     "metadata": {},
     "output_type": "display_data"
    },
    {
     "data": {
      "image/png": "[encoded data removed]",
      "text/plain": [
       "<Figure size 1080x288 with 2 Axes>"
      ]
     },
     "metadata": {},
     "output_type": "display_data"
    }
   ],
   "source": [
    "# StateHoliday column has values 0 & \"0\", So, we need to merge values with 0 to \"0\"\n",
    "df[\"StateHoliday\"].loc[df[\"StateHoliday\"] == 0] = \"0\"\n",
    "\n",
    "#Plotting the count of different types of State Holidays\n",
    "sns.countplot(x='StateHoliday', data=df);\n",
    "\n",
    "fig, (axis1,axis2) = plt.subplots(1,2,figsize=(15,4))\n",
    "\n",
    "#Plotting a barplot of Customers with respect to different types of State Holiday\n",
    "sns.barplot(x='StateHoliday', y='Customers', data=df, ax=axis1,ci=None);\n",
    "\n",
    "#Plotting an instance when the State Holiday is not equal 0 but the Customer count is 0\n",
    "mask = (df[\"StateHoliday\"] != \"0\") & (df[\"Customers\"] > 0)\n",
    "sns.barplot(x='StateHoliday', y='Customers', data=df[mask], ax=axis2,ci=None);"
   ]
  },
  {
   "cell_type": "markdown",
   "id": "7ba3399c",
   "metadata": {
    "colab": {},
    "colab_type": "code",
    "id": "1nd3HXxX1J2U"
   },
   "source": [
    "Customer count is highest when Stateholiday=0."
   ]
  },
  {
   "cell_type": "markdown",
   "id": "faa1334a",
   "metadata": {},
   "source": [
    "<a id=\"eda\"><a>\n",
    "<table align=\"center\" width=100%>\n",
    "    <tr>\n",
    "        <td>\n",
    "            <div align=\"left\">\n",
    "                <font color=\"#21619\" size=2px>                   \n",
    "                    <b>  School Holiday\n",
    "                    </b>\n",
    "                </font>\n",
    "            </div>\n",
    "        </td>\n",
    "    </tr>\n",
    "</table>"
   ]
  },
  {
   "cell_type": "code",
   "execution_count": 97,
   "id": "796f7720",
   "metadata": {
    "ExecuteTime": {
     "end_time": "2020-06-24T07:50:40.892359Z",
     "start_time": "2020-06-24T07:50:40.423535Z"
    },
    "colab": {
     "base_uri": "https://localhost:8080/",
     "height": 553
    },
    "colab_type": "code",
    "id": "VIUAAMny1J2b",
    "outputId": "23fac83e-2cce-497d-ca2a-5a89dc93ce76"
   },
   "outputs": [
    {
     "data": {
      "image/png": "[encoded data removed]",
      "text/plain": [
       "<Figure size 432x288 with 1 Axes>"
      ]
     },
     "metadata": {},
     "output_type": "display_data"
    },
    {
     "data": {
      "image/png": "[encoded data removed]",
      "text/plain": [
       "<Figure size 1080x288 with 1 Axes>"
      ]
     },
     "metadata": {},
     "output_type": "display_data"
    }
   ],
   "source": [
    "# Plotting the count of School Holidays\n",
    "sns.countplot(x='SchoolHoliday', data=df);\n",
    "\n",
    "fig, (axis1) = plt.subplots(1,figsize=(15,4))\n",
    "\n",
    "#Plotting the average number of Customers with respect to the School Holiday\n",
    "sns.barplot(x='SchoolHoliday', y='Customers', data=df, ax=axis1);"
   ]
  },
  {
   "cell_type": "markdown",
   "id": "949baef4",
   "metadata": {
    "colab": {},
    "colab_type": "code",
    "id": "1x-EfMVn1J2i"
   },
   "source": [
    "When there is a school holiday, the customer count is more."
   ]
  },
  {
   "cell_type": "markdown",
   "id": "4a76ed73",
   "metadata": {},
   "source": [
    "<a id=\"eda\"><a>\n",
    "<table align=\"center\" width=100%>\n",
    "    <tr>\n",
    "        <td>\n",
    "            <div align=\"left\">\n",
    "                <font color=\"#21619\" size=2px>                   \n",
    "                    <b>  Correlation Analysis\n",
    "                    </b>\n",
    "                </font>\n",
    "            </div>\n",
    "        </td>\n",
    "    </tr>\n",
    "</table>"
   ]
  },
  {
   "cell_type": "code",
   "execution_count": 98,
   "id": "b61cd586",
   "metadata": {
    "ExecuteTime": {
     "end_time": "2020-06-24T07:50:41.249410Z",
     "start_time": "2020-06-24T07:50:40.893377Z"
    },
    "colab": {
     "base_uri": "https://localhost:8080/",
     "height": 554
    },
    "colab_type": "code",
    "id": "nEMpgtXO1J2q",
    "outputId": "bec79a60-483c-4b56-c812-eb033039489c"
   },
   "outputs": [
    {
     "data": {
      "image/png": "[encoded data removed]",
      "text/plain": [
       "<Figure size 1080x576 with 2 Axes>"
      ]
     },
     "metadata": {},
     "output_type": "display_data"
    }
   ],
   "source": [
    "corr_all = df.drop('DayOfWeek', axis = 1).corr()\n",
    "mask = np.array(corr_all)\n",
    "mask[np.tril_indices_from(mask)] = False\n",
    "fig,ax= plt.subplots()\n",
    "fig.set_size_inches(15,8)\n",
    "sns.heatmap(corr_all, mask=mask,vmax=.9, square=True,annot=True);\n",
    "plt.show()"
   ]
  },
  {
   "cell_type": "markdown",
   "id": "90807c1c",
   "metadata": {
    "colab": {},
    "colab_type": "code",
    "id": "SdBxddXG1J20"
   },
   "source": [
    "Open and Customers are highly correlated - This was expected. Day of the week is dropped from this correlation plot as ideally Day of the Week is a categorical type of variable\n",
    "Similarly Month, Day, Year should be read with respect to negative values, as these are being considered as integer wherein the values does not represent any kind of order"
   ]
  },
  {
   "cell_type": "markdown",
   "id": "2ce810c1",
   "metadata": {},
   "source": [
    "<a id=\"eda\"><a>\n",
    "<table align=\"center\" width=100%>\n",
    "    <tr>\n",
    "        <td>\n",
    "            <div align=\"left\">\n",
    "                <font color=\"#21619\" size=5px>                   \n",
    "                    <b>  Considering the first store i.e. Store id = 1044 \n",
    "                    </b>\n",
    "                </font>\n",
    "            </div>\n",
    "        </td>\n",
    "    </tr>\n",
    "</table>"
   ]
  },
  {
   "cell_type": "code",
   "execution_count": 99,
   "id": "e3abb2a2",
   "metadata": {
    "ExecuteTime": {
     "end_time": "2020-06-24T07:50:41.467854Z",
     "start_time": "2020-06-24T07:50:41.250402Z"
    },
    "colab": {
     "base_uri": "https://localhost:8080/",
     "height": 514
    },
    "colab_type": "code",
    "id": "QX5gaF4w1J28",
    "outputId": "aa571569-962e-4a08-a560-60aa77cca15e",
    "scrolled": true
   },
   "outputs": [
    {
     "data": {
      "image/png": "[encoded data removed]",
      "text/plain": [
       "<Figure size 864x576 with 1 Axes>"
      ]
     },
     "metadata": {},
     "output_type": "display_data"
    }
   ],
   "source": [
    "# store types\n",
    "df_1044 = df[df.Store == 1044]['Customers']. sort_index(ascending=True)\n",
    "f, (ax1) = plt.subplots(1, figsize = (12, 8))\n",
    "df_1044.resample('W').sum().plot(color = c, ax = ax1)\n",
    "\n",
    "plt.show()"
   ]
  },
  {
   "cell_type": "markdown",
   "id": "69dc4a60",
   "metadata": {
    "colab": {},
    "colab_type": "code",
    "id": "z2Rx7l-J1J3E"
   },
   "source": [
    "Seasonality does exists in the data set. The store had a peak in December and May."
   ]
  },
  {
   "cell_type": "code",
   "execution_count": 100,
   "id": "48dc5e6e",
   "metadata": {
    "ExecuteTime": {
     "end_time": "2020-06-24T07:50:41.648335Z",
     "start_time": "2020-06-24T07:50:41.471810Z"
    },
    "colab": {
     "base_uri": "https://localhost:8080/",
     "height": 514
    },
    "colab_type": "code",
    "id": "Qr0Aw8x11J3N",
    "outputId": "9b45eced-ac3e-4805-db0d-449eb04061be"
   },
   "outputs": [
    {
     "data": {
      "image/png": "[encoded data removed]",
      "text/plain": [
       "<Figure size 864x576 with 1 Axes>"
      ]
     },
     "metadata": {},
     "output_type": "display_data"
    }
   ],
   "source": [
    "# Let's check the trend in the data set\n",
    "decomposition_a = seasonal_decompose(df_1044, model = 'additive', period = 365)\n",
    "f, ax1 = plt.subplots(1, figsize = (12, 8))\n",
    "decomposition_a.trend.plot(color = c, ax = ax1)\n",
    "plt.show()"
   ]
  },
  {
   "cell_type": "markdown",
   "id": "301e7927",
   "metadata": {
    "colab": {},
    "colab_type": "code",
    "id": "k93xZFWK1J3U"
   },
   "source": [
    "There seems to be an increase in customer footfall year on year."
   ]
  },
  {
   "cell_type": "code",
   "execution_count": 101,
   "id": "2d5fb5ca",
   "metadata": {
    "ExecuteTime": {
     "end_time": "2020-05-29T09:41:13.845220Z",
     "start_time": "2020-05-29T09:41:13.684152Z"
    }
   },
   "outputs": [],
   "source": [
    "df_1044 = df[df.Store == 1044]['Customers']. sort_index(ascending=True)"
   ]
  },
  {
   "cell_type": "markdown",
   "id": "5f2e3695",
   "metadata": {},
   "source": [
    "<a id=\"eda\"><a>\n",
    "<table align=\"center\" width=100%>\n",
    "    <tr>\n",
    "        <td>\n",
    "            <div align=\"left\">\n",
    "                <font color=\"#21619\" size=2px>                   \n",
    "                    <b>  ACF: Auto-Correlation Function\n",
    "                    </b>\n",
    "                </font>\n",
    "            </div>\n",
    "        </td>\n",
    "    </tr>\n",
    "</table>"
   ]
  },
  {
   "cell_type": "code",
   "execution_count": 102,
   "id": "7274c589",
   "metadata": {},
   "outputs": [
    {
     "data": {
      "image/png": "[encoded data removed]",
      "text/plain": [
       "<Figure size 864x576 with 1 Axes>"
      ]
     },
     "metadata": {},
     "output_type": "display_data"
    }
   ],
   "source": [
    "plt.figure(figsize = (12,8))\n",
    "plot_acf(df_1044, lags=50, ax = plt.gca())\n",
    "plt.show()"
   ]
  },
  {
   "cell_type": "markdown",
   "id": "73cd133e",
   "metadata": {},
   "source": [
    "<a id=\"eda\"><a>\n",
    "<table align=\"center\" width=100%>\n",
    "    <tr>\n",
    "        <td>\n",
    "            <div align=\"left\">\n",
    "                <font color=\"#21619\" size=2px>                   \n",
    "                    <b>  PACF: Partial Auto-Correlation Function\n",
    "                    </b>\n",
    "                </font>\n",
    "            </div>\n",
    "        </td>\n",
    "    </tr>\n",
    "</table>"
   ]
  },
  {
   "cell_type": "code",
   "execution_count": 103,
   "id": "03e7e0d6",
   "metadata": {
    "scrolled": true
   },
   "outputs": [
    {
     "data": {
      "image/png": "[encoded data removed]",
      "text/plain": [
       "<Figure size 864x576 with 1 Axes>"
      ]
     },
     "metadata": {},
     "output_type": "display_data"
    }
   ],
   "source": [
    "plt.figure(figsize=(12,8))\n",
    "plot_pacf(df_1044, lags=50, ax = plt.gca())\n",
    "plt.show()"
   ]
  },
  {
   "cell_type": "markdown",
   "id": "f1b2e47b",
   "metadata": {},
   "source": [
    "**Seasonality after certain lags is visible. Every 7th day**"
   ]
  },
  {
   "cell_type": "markdown",
   "id": "59ade928",
   "metadata": {},
   "source": [
    "<a id=\"eda\"><a>\n",
    "<table align=\"center\" width=100%>\n",
    "    <tr>\n",
    "        <td>\n",
    "            <div align=\"left\">\n",
    "                <font color=\"#21619\" size=4px>                   \n",
    "                    <b>  Model Building\n",
    "                    </b>\n",
    "                </font>\n",
    "            </div>\n",
    "        </td>\n",
    "    </tr>\n",
    "</table>"
   ]
  },
  {
   "cell_type": "markdown",
   "id": "82c66275",
   "metadata": {},
   "source": [
    "<a id=\"eda\"><a>\n",
    "<table align=\"center\" width=100%>\n",
    "    <tr>\n",
    "        <td>\n",
    "            <div align=\"left\">\n",
    "                <font color=\"#21619\" size=2px>                   \n",
    "                    <b>  Data is being read again for model. This time no index is created while loading the data. First time when the data was read, index was used so that specific EDA can be done.\n",
    "                    </b>\n",
    "                </font>\n",
    "            </div>\n",
    "        </td>\n",
    "    </tr>\n",
    "</table>"
   ]
  },
  {
   "cell_type": "code",
   "execution_count": 104,
   "id": "38c59a2e",
   "metadata": {},
   "outputs": [],
   "source": [
    "Store50 = pd.read_excel('Store_50-1.xlsx', parse_dates = True)"
   ]
  },
  {
   "cell_type": "code",
   "execution_count": 105,
   "id": "bd6fc32f",
   "metadata": {},
   "outputs": [],
   "source": [
    "# Extract customers only for Store 1044 and the model will be built for these customers\n",
    "Store_1044 = Store50[Store50.Store == 1044]\n",
    "\n",
    "# reverse to the order: from 2013 to 2015\n",
    "Store_1044 = Store_1044.sort_index(ascending = False)"
   ]
  },
  {
   "cell_type": "code",
   "execution_count": 106,
   "id": "847b81f9",
   "metadata": {},
   "outputs": [
    {
     "data": {
      "text/html": [
       "<div>\n",
       "<style scoped>\n",
       "    .dataframe tbody tr th:only-of-type {\n",
       "        vertical-align: middle;\n",
       "    }\n",
       "\n",
       "    .dataframe tbody tr th {\n",
       "        vertical-align: top;\n",
       "    }\n",
       "\n",
       "    .dataframe thead th {\n",
       "        text-align: right;\n",
       "    }\n",
       "</style>\n",
       "<table border=\"1\" class=\"dataframe\">\n",
       "  <thead>\n",
       "    <tr style=\"text-align: right;\">\n",
       "      <th></th>\n",
       "      <th>Store</th>\n",
       "      <th>Day Of Week</th>\n",
       "      <th>Date</th>\n",
       "      <th>Customers</th>\n",
       "      <th>Open</th>\n",
       "      <th>Promotion</th>\n",
       "      <th>State Holiday</th>\n",
       "      <th>School Holiday</th>\n",
       "    </tr>\n",
       "  </thead>\n",
       "  <tbody>\n",
       "    <tr>\n",
       "      <th>43275</th>\n",
       "      <td>1044</td>\n",
       "      <td>2</td>\n",
       "      <td>2014-01-01 00:00:00</td>\n",
       "      <td>0</td>\n",
       "      <td>0</td>\n",
       "      <td>0</td>\n",
       "      <td>a</td>\n",
       "      <td>1</td>\n",
       "    </tr>\n",
       "    <tr>\n",
       "      <th>43224</th>\n",
       "      <td>1044</td>\n",
       "      <td>3</td>\n",
       "      <td>2014-02-01 00:00:00</td>\n",
       "      <td>481</td>\n",
       "      <td>1</td>\n",
       "      <td>0</td>\n",
       "      <td>0</td>\n",
       "      <td>1</td>\n",
       "    </tr>\n",
       "    <tr>\n",
       "      <th>43173</th>\n",
       "      <td>1044</td>\n",
       "      <td>4</td>\n",
       "      <td>2014-03-01 00:00:00</td>\n",
       "      <td>453</td>\n",
       "      <td>1</td>\n",
       "      <td>0</td>\n",
       "      <td>0</td>\n",
       "      <td>1</td>\n",
       "    </tr>\n",
       "    <tr>\n",
       "      <th>43122</th>\n",
       "      <td>1044</td>\n",
       "      <td>5</td>\n",
       "      <td>2014-04-01 00:00:00</td>\n",
       "      <td>497</td>\n",
       "      <td>1</td>\n",
       "      <td>0</td>\n",
       "      <td>0</td>\n",
       "      <td>1</td>\n",
       "    </tr>\n",
       "    <tr>\n",
       "      <th>43071</th>\n",
       "      <td>1044</td>\n",
       "      <td>6</td>\n",
       "      <td>2014-05-01 00:00:00</td>\n",
       "      <td>450</td>\n",
       "      <td>1</td>\n",
       "      <td>0</td>\n",
       "      <td>0</td>\n",
       "      <td>0</td>\n",
       "    </tr>\n",
       "  </tbody>\n",
       "</table>\n",
       "</div>"
      ],
      "text/plain": [
       "       Store  Day Of Week                 Date  Customers  Open  Promotion  \\\n",
       "43275   1044            2  2014-01-01 00:00:00          0     0          0   \n",
       "43224   1044            3  2014-02-01 00:00:00        481     1          0   \n",
       "43173   1044            4  2014-03-01 00:00:00        453     1          0   \n",
       "43122   1044            5  2014-04-01 00:00:00        497     1          0   \n",
       "43071   1044            6  2014-05-01 00:00:00        450     1          0   \n",
       "\n",
       "      State Holiday  School Holiday  \n",
       "43275             a               1  \n",
       "43224             0               1  \n",
       "43173             0               1  \n",
       "43122             0               1  \n",
       "43071             0               0  "
      ]
     },
     "execution_count": 106,
     "metadata": {},
     "output_type": "execute_result"
    }
   ],
   "source": [
    "Store_1044.head()"
   ]
  },
  {
   "cell_type": "code",
   "execution_count": 107,
   "id": "1802711a",
   "metadata": {
    "ExecuteTime": {
     "end_time": "2020-05-29T09:41:29.489035Z",
     "start_time": "2020-05-29T09:41:29.313234Z"
    },
    "colab": {},
    "colab_type": "code",
    "id": "qLANKBcX1J4a"
   },
   "outputs": [],
   "source": [
    "Store_1044.rename(columns = {\"Day Of Week\": \"DayOfWeek\", \"State Holiday\":\"StateHoliday\",\"School Holiday\":\"SchoolHoliday\"}, \n",
    "                      inplace = True) "
   ]
  },
  {
   "cell_type": "code",
   "execution_count": 108,
   "id": "8d2f2369",
   "metadata": {},
   "outputs": [],
   "source": [
    "Store_1044['Date'] = pd.to_datetime(Store_1044['Date'])"
   ]
  },
  {
   "cell_type": "code",
   "execution_count": 109,
   "id": "fecf4367",
   "metadata": {
    "scrolled": true
   },
   "outputs": [],
   "source": [
    "Store_1044['Year'] = Store_1044['Date'].dt.year"
   ]
  },
  {
   "cell_type": "code",
   "execution_count": 110,
   "id": "21b07572",
   "metadata": {},
   "outputs": [
    {
     "data": {
      "text/html": [
       "<div>\n",
       "<style scoped>\n",
       "    .dataframe tbody tr th:only-of-type {\n",
       "        vertical-align: middle;\n",
       "    }\n",
       "\n",
       "    .dataframe tbody tr th {\n",
       "        vertical-align: top;\n",
       "    }\n",
       "\n",
       "    .dataframe thead th {\n",
       "        text-align: right;\n",
       "    }\n",
       "</style>\n",
       "<table border=\"1\" class=\"dataframe\">\n",
       "  <thead>\n",
       "    <tr style=\"text-align: right;\">\n",
       "      <th></th>\n",
       "      <th>Store</th>\n",
       "      <th>DayOfWeek</th>\n",
       "      <th>Date</th>\n",
       "      <th>Customers</th>\n",
       "      <th>Open</th>\n",
       "      <th>Promotion</th>\n",
       "      <th>StateHoliday</th>\n",
       "      <th>SchoolHoliday</th>\n",
       "      <th>Year</th>\n",
       "    </tr>\n",
       "  </thead>\n",
       "  <tbody>\n",
       "    <tr>\n",
       "      <th>43275</th>\n",
       "      <td>1044</td>\n",
       "      <td>2</td>\n",
       "      <td>2014-01-01</td>\n",
       "      <td>0</td>\n",
       "      <td>0</td>\n",
       "      <td>0</td>\n",
       "      <td>a</td>\n",
       "      <td>1</td>\n",
       "      <td>2014</td>\n",
       "    </tr>\n",
       "    <tr>\n",
       "      <th>43224</th>\n",
       "      <td>1044</td>\n",
       "      <td>3</td>\n",
       "      <td>2014-02-01</td>\n",
       "      <td>481</td>\n",
       "      <td>1</td>\n",
       "      <td>0</td>\n",
       "      <td>0</td>\n",
       "      <td>1</td>\n",
       "      <td>2014</td>\n",
       "    </tr>\n",
       "    <tr>\n",
       "      <th>43173</th>\n",
       "      <td>1044</td>\n",
       "      <td>4</td>\n",
       "      <td>2014-03-01</td>\n",
       "      <td>453</td>\n",
       "      <td>1</td>\n",
       "      <td>0</td>\n",
       "      <td>0</td>\n",
       "      <td>1</td>\n",
       "      <td>2014</td>\n",
       "    </tr>\n",
       "    <tr>\n",
       "      <th>43122</th>\n",
       "      <td>1044</td>\n",
       "      <td>5</td>\n",
       "      <td>2014-04-01</td>\n",
       "      <td>497</td>\n",
       "      <td>1</td>\n",
       "      <td>0</td>\n",
       "      <td>0</td>\n",
       "      <td>1</td>\n",
       "      <td>2014</td>\n",
       "    </tr>\n",
       "    <tr>\n",
       "      <th>43071</th>\n",
       "      <td>1044</td>\n",
       "      <td>6</td>\n",
       "      <td>2014-05-01</td>\n",
       "      <td>450</td>\n",
       "      <td>1</td>\n",
       "      <td>0</td>\n",
       "      <td>0</td>\n",
       "      <td>0</td>\n",
       "      <td>2014</td>\n",
       "    </tr>\n",
       "  </tbody>\n",
       "</table>\n",
       "</div>"
      ],
      "text/plain": [
       "       Store  DayOfWeek       Date  Customers  Open  Promotion StateHoliday  \\\n",
       "43275   1044          2 2014-01-01          0     0          0            a   \n",
       "43224   1044          3 2014-02-01        481     1          0            0   \n",
       "43173   1044          4 2014-03-01        453     1          0            0   \n",
       "43122   1044          5 2014-04-01        497     1          0            0   \n",
       "43071   1044          6 2014-05-01        450     1          0            0   \n",
       "\n",
       "       SchoolHoliday  Year  \n",
       "43275              1  2014  \n",
       "43224              1  2014  \n",
       "43173              1  2014  \n",
       "43122              1  2014  \n",
       "43071              0  2014  "
      ]
     },
     "execution_count": 110,
     "metadata": {},
     "output_type": "execute_result"
    }
   ],
   "source": [
    "Store_1044.head()"
   ]
  },
  {
   "cell_type": "code",
   "execution_count": 111,
   "id": "72d377ba",
   "metadata": {},
   "outputs": [],
   "source": [
    "train = Store_1044[Store_1044['Year'] != 2016]\n",
    "test  = Store_1044[Store_1044['Year'] == 2016]"
   ]
  },
  {
   "cell_type": "code",
   "execution_count": 112,
   "id": "63641b1c",
   "metadata": {},
   "outputs": [],
   "source": [
    "train_mod = train[['Date', 'Customers']]\n",
    "test_mod  = test[['Date', 'Customers']]"
   ]
  },
  {
   "cell_type": "code",
   "execution_count": 113,
   "id": "33b1c973",
   "metadata": {},
   "outputs": [
    {
     "name": "stdout",
     "output_type": "stream",
     "text": [
      "(730, 9)\n",
      "(152, 9)\n"
     ]
    }
   ],
   "source": [
    "print(train.shape)\n",
    "print(test.shape)"
   ]
  },
  {
   "cell_type": "code",
   "execution_count": 114,
   "id": "8efb4f16",
   "metadata": {},
   "outputs": [],
   "source": [
    "# Test for stationarity of the series - Dicky Fuller test\n",
    "\n",
    "from statsmodels.tsa.stattools import adfuller"
   ]
  },
  {
   "cell_type": "code",
   "execution_count": 115,
   "id": "c7521c3a",
   "metadata": {},
   "outputs": [],
   "source": [
    "def test_stationarity(timeseries):\n",
    "    \n",
    "    #Determing rolling statistics\n",
    "    rolmean = timeseries.rolling(window=7).mean()\n",
    "    rolstd  = timeseries.rolling(window=7).std()\n",
    "    \n",
    "    #Plot rolling statistics\n",
    "    orig = plt.plot(timeseries, color = 'blue', label = 'Original')\n",
    "    mean = plt.plot(rolmean, color = 'red', label = 'Rolling Mean')\n",
    "    std  = plt.plot(rolstd, color = 'black', label = 'Rolling Std')\n",
    "    plt.legend(loc = 'best')\n",
    "    plt.title('Rolling Mean and Standard Deviation')\n",
    "    plt.show(block = False)\n",
    "    \n",
    "    #Perform Dicky Fuller Test\n",
    "    print('Results of Dicky-Fuller Test:')\n",
    "    dftest = adfuller(timeseries, autolag = 'AIC')\n",
    "    dfoutput = pd.Series(dftest[0:4], index=['Test Statistic','p-value','#Lags Used','Number of Observations Used'])\n",
    "    for key,value in dftest[4].items():\n",
    "        dfoutput['Critical Value (%s)' %key] = value\n",
    "    print(dfoutput, '\\n')"
   ]
  },
  {
   "cell_type": "code",
   "execution_count": 116,
   "id": "4b78dbab",
   "metadata": {},
   "outputs": [
    {
     "data": {
      "image/png": "[encoded data removed]",
      "text/plain": [
       "<Figure size 432x288 with 1 Axes>"
      ]
     },
     "metadata": {},
     "output_type": "display_data"
    },
    {
     "name": "stdout",
     "output_type": "stream",
     "text": [
      "Results of Dicky-Fuller Test:\n",
      "Test Statistic                  -2.872975\n",
      "p-value                          0.048582\n",
      "#Lags Used                      20.000000\n",
      "Number of Observations Used    709.000000\n",
      "Critical Value (1%)             -3.439607\n",
      "Critical Value (5%)             -2.865625\n",
      "Critical Value (10%)            -2.568945\n",
      "dtype: float64 \n",
      "\n"
     ]
    }
   ],
   "source": [
    "test_stationarity(train['Customers'])"
   ]
  },
  {
   "cell_type": "markdown",
   "id": "60ff8fa9",
   "metadata": {},
   "source": [
    "**Series is stationary and hence no need for differentiation**"
   ]
  },
  {
   "cell_type": "code",
   "execution_count": 117,
   "id": "c8205b8b",
   "metadata": {},
   "outputs": [],
   "source": [
    "import itertools\n",
    "p = q = range(0,3)\n",
    "d = range(0,1)\n",
    "pdq = list(itertools.product(p, d, q))\n",
    "model_pdq = [ (x[0], x[1], x[2], 7) for x in list(itertools.product(p, d, q))]"
   ]
  },
  {
   "cell_type": "code",
   "execution_count": 118,
   "id": "3b2ff5b1",
   "metadata": {
    "scrolled": false
   },
   "outputs": [
    {
     "data": {
      "text/html": [
       "<div>\n",
       "<style scoped>\n",
       "    .dataframe tbody tr th:only-of-type {\n",
       "        vertical-align: middle;\n",
       "    }\n",
       "\n",
       "    .dataframe tbody tr th {\n",
       "        vertical-align: top;\n",
       "    }\n",
       "\n",
       "    .dataframe thead th {\n",
       "        text-align: right;\n",
       "    }\n",
       "</style>\n",
       "<table border=\"1\" class=\"dataframe\">\n",
       "  <thead>\n",
       "    <tr style=\"text-align: right;\">\n",
       "      <th></th>\n",
       "      <th>param</th>\n",
       "      <th>AIC</th>\n",
       "    </tr>\n",
       "  </thead>\n",
       "  <tbody>\n",
       "  </tbody>\n",
       "</table>\n",
       "</div>"
      ],
      "text/plain": [
       "Empty DataFrame\n",
       "Columns: [param, AIC]\n",
       "Index: []"
      ]
     },
     "execution_count": 118,
     "metadata": {},
     "output_type": "execute_result"
    }
   ],
   "source": [
    "#Creating an empty Dataframe with column names only\n",
    "ARIMA_AIC = pd.DataFrame(columns=['param', 'AIC'])\n",
    "ARIMA_AIC"
   ]
  },
  {
   "cell_type": "code",
   "execution_count": 119,
   "id": "224bf5ba",
   "metadata": {},
   "outputs": [],
   "source": [
    "from statsmodels.tsa.arima.model import ARIMA\n",
    "#from statsmodels.tsa.statespace.sarimax import SARIMAX"
   ]
  },
  {
   "cell_type": "code",
   "execution_count": 120,
   "id": "443b905c",
   "metadata": {},
   "outputs": [
    {
     "name": "stdout",
     "output_type": "stream",
     "text": [
      "ARIMA(0, 0, 0) - AIC:10018.497355513635\n",
      "ARIMA(0, 0, 1) - AIC:9999.149868904264\n",
      "ARIMA(0, 0, 2) - AIC:9993.000655983284\n",
      "ARIMA(1, 0, 0) - AIC:10004.030374628735\n",
      "ARIMA(1, 0, 1) - AIC:9994.575024383867\n",
      "ARIMA(1, 0, 2) - AIC:9961.499510067668\n",
      "ARIMA(2, 0, 0) - AIC:9993.941788421156\n",
      "ARIMA(2, 0, 1) - AIC:9995.558354808587\n",
      "ARIMA(2, 0, 2) - AIC:9963.480234968003\n"
     ]
    }
   ],
   "source": [
    "for param in pdq:\n",
    "    ARIMA_model = ARIMA(train['Customers'], order=param).fit()\n",
    "    print('ARIMA{} - AIC:{}'.format(param, ARIMA_model.aic))\n",
    "    ARIMA_AIC = ARIMA_AIC.append({'param': param, 'AIC': ARIMA_model.aic}, ignore_index=True)"
   ]
  },
  {
   "cell_type": "code",
   "execution_count": 121,
   "id": "09c063ed",
   "metadata": {
    "scrolled": true
   },
   "outputs": [
    {
     "data": {
      "text/html": [
       "<div>\n",
       "<style scoped>\n",
       "    .dataframe tbody tr th:only-of-type {\n",
       "        vertical-align: middle;\n",
       "    }\n",
       "\n",
       "    .dataframe tbody tr th {\n",
       "        vertical-align: top;\n",
       "    }\n",
       "\n",
       "    .dataframe thead th {\n",
       "        text-align: right;\n",
       "    }\n",
       "</style>\n",
       "<table border=\"1\" class=\"dataframe\">\n",
       "  <thead>\n",
       "    <tr style=\"text-align: right;\">\n",
       "      <th></th>\n",
       "      <th>param</th>\n",
       "      <th>AIC</th>\n",
       "    </tr>\n",
       "  </thead>\n",
       "  <tbody>\n",
       "    <tr>\n",
       "      <th>5</th>\n",
       "      <td>(1, 0, 2)</td>\n",
       "      <td>9961.49951</td>\n",
       "    </tr>\n",
       "    <tr>\n",
       "      <th>8</th>\n",
       "      <td>(2, 0, 2)</td>\n",
       "      <td>9963.480235</td>\n",
       "    </tr>\n",
       "    <tr>\n",
       "      <th>2</th>\n",
       "      <td>(0, 0, 2)</td>\n",
       "      <td>9993.000656</td>\n",
       "    </tr>\n",
       "    <tr>\n",
       "      <th>6</th>\n",
       "      <td>(2, 0, 0)</td>\n",
       "      <td>9993.941788</td>\n",
       "    </tr>\n",
       "    <tr>\n",
       "      <th>4</th>\n",
       "      <td>(1, 0, 1)</td>\n",
       "      <td>9994.575024</td>\n",
       "    </tr>\n",
       "    <tr>\n",
       "      <th>7</th>\n",
       "      <td>(2, 0, 1)</td>\n",
       "      <td>9995.558355</td>\n",
       "    </tr>\n",
       "    <tr>\n",
       "      <th>1</th>\n",
       "      <td>(0, 0, 1)</td>\n",
       "      <td>9999.149869</td>\n",
       "    </tr>\n",
       "    <tr>\n",
       "      <th>3</th>\n",
       "      <td>(1, 0, 0)</td>\n",
       "      <td>10004.030375</td>\n",
       "    </tr>\n",
       "    <tr>\n",
       "      <th>0</th>\n",
       "      <td>(0, 0, 0)</td>\n",
       "      <td>10018.497356</td>\n",
       "    </tr>\n",
       "  </tbody>\n",
       "</table>\n",
       "</div>"
      ],
      "text/plain": [
       "       param           AIC\n",
       "5  (1, 0, 2)    9961.49951\n",
       "8  (2, 0, 2)   9963.480235\n",
       "2  (0, 0, 2)   9993.000656\n",
       "6  (2, 0, 0)   9993.941788\n",
       "4  (1, 0, 1)   9994.575024\n",
       "7  (2, 0, 1)   9995.558355\n",
       "1  (0, 0, 1)   9999.149869\n",
       "3  (1, 0, 0)  10004.030375\n",
       "0  (0, 0, 0)  10018.497356"
      ]
     },
     "execution_count": 121,
     "metadata": {},
     "output_type": "execute_result"
    }
   ],
   "source": [
    "ARIMA_AIC.sort_values(by='AIC',ascending=True)"
   ]
  },
  {
   "cell_type": "code",
   "execution_count": 122,
   "id": "03f8a84d",
   "metadata": {},
   "outputs": [
    {
     "name": "stdout",
     "output_type": "stream",
     "text": [
      "                               SARIMAX Results                                \n",
      "==============================================================================\n",
      "Dep. Variable:              Customers   No. Observations:                  730\n",
      "Model:                 ARIMA(1, 0, 2)   Log Likelihood               -4975.750\n",
      "Date:                Mon, 20 May 2024   AIC                           9961.500\n",
      "Time:                        21:19:45   BIC                           9984.465\n",
      "Sample:                             0   HQIC                          9970.360\n",
      "                                - 730                                         \n",
      "Covariance Type:                  opg                                         \n",
      "==============================================================================\n",
      "                 coef    std err          z      P>|z|      [0.025      0.975]\n",
      "------------------------------------------------------------------------------\n",
      "const        464.6821      9.101     51.058      0.000     446.844     482.520\n",
      "ar.L1         -0.7465      0.058    -12.956      0.000      -0.859      -0.634\n",
      "ma.L1          0.6234      0.062     10.092      0.000       0.502       0.744\n",
      "ma.L2         -0.2752      0.041     -6.780      0.000      -0.355      -0.196\n",
      "sigma2      4.871e+04   3160.371     15.413      0.000    4.25e+04    5.49e+04\n",
      "===================================================================================\n",
      "Ljung-Box (L1) (Q):                   0.00   Jarque-Bera (JB):                85.65\n",
      "Prob(Q):                              0.97   Prob(JB):                         0.00\n",
      "Heteroskedasticity (H):               1.46   Skew:                            -0.84\n",
      "Prob(H) (two-sided):                  0.00   Kurtosis:                         3.07\n",
      "===================================================================================\n",
      "\n",
      "Warnings:\n",
      "[1] Covariance matrix calculated using the outer product of gradients (complex-step).\n"
     ]
    }
   ],
   "source": [
    "# ARIMA(1,0,2) has the lowest AIC\n",
    "best_model = ARIMA(train['Customers'], order=(1,0,2))\n",
    "\n",
    "results_Arima = best_model.fit()\n",
    "\n",
    "print(results_Arima.summary())"
   ]
  },
  {
   "cell_type": "code",
   "execution_count": 123,
   "id": "04a03a73",
   "metadata": {},
   "outputs": [],
   "source": [
    "test['Customers'] = test['Customers'].astype(float)\n",
    "final_hat_avg = test.copy()\n",
    "pred = results_Arima.forecast(steps = 152)"
   ]
  },
  {
   "cell_type": "code",
   "execution_count": 124,
   "id": "d4c11cfb",
   "metadata": {},
   "outputs": [],
   "source": [
    "from sklearn.metrics import mean_squared_error\n",
    "rmse = mean_squared_error(test['Customers'], pred, squared=False)"
   ]
  },
  {
   "cell_type": "code",
   "execution_count": 125,
   "id": "8e5a724a",
   "metadata": {},
   "outputs": [
    {
     "name": "stdout",
     "output_type": "stream",
     "text": [
      "271.65867643638455\n"
     ]
    }
   ],
   "source": [
    "print(rmse)"
   ]
  },
  {
   "cell_type": "code",
   "execution_count": 126,
   "id": "f3ba1765",
   "metadata": {
    "ExecuteTime": {
     "end_time": "2020-05-29T09:41:40.278212Z",
     "start_time": "2020-05-29T09:41:40.213406Z"
    }
   },
   "outputs": [
    {
     "data": {
      "text/html": [
       "<div>\n",
       "<style scoped>\n",
       "    .dataframe tbody tr th:only-of-type {\n",
       "        vertical-align: middle;\n",
       "    }\n",
       "\n",
       "    .dataframe tbody tr th {\n",
       "        vertical-align: top;\n",
       "    }\n",
       "\n",
       "    .dataframe thead th {\n",
       "        text-align: right;\n",
       "    }\n",
       "</style>\n",
       "<table border=\"1\" class=\"dataframe\">\n",
       "  <thead>\n",
       "    <tr style=\"text-align: right;\">\n",
       "      <th></th>\n",
       "      <th>RMSE</th>\n",
       "    </tr>\n",
       "  </thead>\n",
       "  <tbody>\n",
       "    <tr>\n",
       "      <th>ARIMA(1,0,2)</th>\n",
       "      <td>271.658676</td>\n",
       "    </tr>\n",
       "  </tbody>\n",
       "</table>\n",
       "</div>"
      ],
      "text/plain": [
       "                    RMSE\n",
       "ARIMA(1,0,2)  271.658676"
      ]
     },
     "execution_count": 126,
     "metadata": {},
     "output_type": "execute_result"
    }
   ],
   "source": [
    "resultsDf = pd.DataFrame({'RMSE': [rmse]}\n",
    "                           ,index=['ARIMA(1,0,2)'])\n",
    "\n",
    "resultsDf"
   ]
  },
  {
   "cell_type": "markdown",
   "id": "84abe219",
   "metadata": {},
   "source": [
    "<a id=\"eda\"><a>\n",
    "<table align=\"center\" width=100%>\n",
    "    <tr>\n",
    "        <td>\n",
    "            <div align=\"left\">\n",
    "                <font color=\"#21619\" size=3px>                   \n",
    "                    <b>  As the dataset has seasonality, let's build the model with SARIMA\n",
    "                    </b>\n",
    "                </font>\n",
    "            </div>\n",
    "        </td>\n",
    "    </tr>\n",
    "</table>"
   ]
  },
  {
   "cell_type": "code",
   "execution_count": 127,
   "id": "2895cda5",
   "metadata": {
    "ExecuteTime": {
     "end_time": "2020-05-29T09:41:40.585378Z",
     "start_time": "2020-05-29T09:41:40.479110Z"
    }
   },
   "outputs": [
    {
     "data": {
      "text/html": [
       "<div>\n",
       "<style scoped>\n",
       "    .dataframe tbody tr th:only-of-type {\n",
       "        vertical-align: middle;\n",
       "    }\n",
       "\n",
       "    .dataframe tbody tr th {\n",
       "        vertical-align: top;\n",
       "    }\n",
       "\n",
       "    .dataframe thead th {\n",
       "        text-align: right;\n",
       "    }\n",
       "</style>\n",
       "<table border=\"1\" class=\"dataframe\">\n",
       "  <thead>\n",
       "    <tr style=\"text-align: right;\">\n",
       "      <th></th>\n",
       "      <th>param</th>\n",
       "      <th>seasonal</th>\n",
       "      <th>AIC</th>\n",
       "    </tr>\n",
       "  </thead>\n",
       "  <tbody>\n",
       "  </tbody>\n",
       "</table>\n",
       "</div>"
      ],
      "text/plain": [
       "Empty DataFrame\n",
       "Columns: [param, seasonal, AIC]\n",
       "Index: []"
      ]
     },
     "execution_count": 127,
     "metadata": {},
     "output_type": "execute_result"
    }
   ],
   "source": [
    "SARIMA_AIC = pd.DataFrame(columns=['param','seasonal', 'AIC'])\n",
    "SARIMA_AIC"
   ]
  },
  {
   "cell_type": "code",
   "execution_count": 128,
   "id": "0ad786b5",
   "metadata": {
    "ExecuteTime": {
     "end_time": "2020-05-29T09:41:40.710240Z",
     "start_time": "2020-05-29T09:41:40.585378Z"
    },
    "scrolled": true
   },
   "outputs": [
    {
     "data": {
      "text/html": [
       "<div>\n",
       "<style scoped>\n",
       "    .dataframe tbody tr th:only-of-type {\n",
       "        vertical-align: middle;\n",
       "    }\n",
       "\n",
       "    .dataframe tbody tr th {\n",
       "        vertical-align: top;\n",
       "    }\n",
       "\n",
       "    .dataframe thead th {\n",
       "        text-align: right;\n",
       "    }\n",
       "</style>\n",
       "<table border=\"1\" class=\"dataframe\">\n",
       "  <thead>\n",
       "    <tr style=\"text-align: right;\">\n",
       "      <th></th>\n",
       "      <th>param</th>\n",
       "      <th>seasonal</th>\n",
       "      <th>AIC</th>\n",
       "    </tr>\n",
       "  </thead>\n",
       "  <tbody>\n",
       "  </tbody>\n",
       "</table>\n",
       "</div>"
      ],
      "text/plain": [
       "Empty DataFrame\n",
       "Columns: [param, seasonal, AIC]\n",
       "Index: []"
      ]
     },
     "execution_count": 128,
     "metadata": {},
     "output_type": "execute_result"
    }
   ],
   "source": [
    "SARIMA_AIC"
   ]
  },
  {
   "cell_type": "code",
   "execution_count": 129,
   "id": "1e773830",
   "metadata": {},
   "outputs": [],
   "source": [
    "import statsmodels.api as sm"
   ]
  },
  {
   "cell_type": "code",
   "execution_count": 130,
   "id": "69634642",
   "metadata": {
    "ExecuteTime": {
     "end_time": "2020-05-29T09:47:42.551905Z",
     "start_time": "2020-05-29T09:41:40.712238Z"
    },
    "colab": {
     "base_uri": "https://localhost:8080/",
     "height": 1000
    },
    "colab_type": "code",
    "id": "2hZXzyzu1J5-",
    "outputId": "7a1fd77c-45cb-4180-81fb-c5f0654dbe6f",
    "scrolled": true
   },
   "outputs": [
    {
     "name": "stdout",
     "output_type": "stream",
     "text": [
      "SARIMA(0, 0, 0)x(0, 0, 0, 7)7 - AIC:11185.950413292372\n",
      "SARIMA(0, 0, 0)x(0, 0, 1, 7)7 - AIC:10518.569230074707\n",
      "SARIMA(0, 0, 0)x(0, 0, 2, 7)7 - AIC:10040.609277392865\n",
      "SARIMA(0, 0, 0)x(1, 0, 0, 7)7 - AIC:9521.374457632435\n",
      "SARIMA(0, 0, 0)x(1, 0, 1, 7)7 - AIC:9016.22683186194\n",
      "SARIMA(0, 0, 0)x(1, 0, 2, 7)7 - AIC:8914.949176593645\n",
      "SARIMA(0, 0, 0)x(2, 0, 0, 7)7 - AIC:9122.879538850024\n",
      "SARIMA(0, 0, 0)x(2, 0, 1, 7)7 - AIC:8919.558922752429\n",
      "SARIMA(0, 0, 0)x(2, 0, 2, 7)7 - AIC:8885.374418185114\n",
      "SARIMA(0, 0, 1)x(0, 0, 0, 7)7 - AIC:10844.339587952096\n",
      "SARIMA(0, 0, 1)x(0, 0, 1, 7)7 - AIC:10277.416370385516\n",
      "SARIMA(0, 0, 1)x(0, 0, 2, 7)7 - AIC:9913.184015362185\n",
      "SARIMA(0, 0, 1)x(1, 0, 0, 7)7 - AIC:9508.331991534833\n",
      "SARIMA(0, 0, 1)x(1, 0, 1, 7)7 - AIC:8963.908110238403\n",
      "SARIMA(0, 0, 1)x(1, 0, 2, 7)7 - AIC:8874.4625300708\n",
      "SARIMA(0, 0, 1)x(2, 0, 0, 7)7 - AIC:9124.566045237203\n",
      "SARIMA(0, 0, 1)x(2, 0, 1, 7)7 - AIC:8893.468031226514\n",
      "SARIMA(0, 0, 1)x(2, 0, 2, 7)7 - AIC:8865.994539871092\n",
      "SARIMA(0, 0, 2)x(0, 0, 0, 7)7 - AIC:10687.562456382897\n",
      "SARIMA(0, 0, 2)x(0, 0, 1, 7)7 - AIC:10159.160348647132\n",
      "SARIMA(0, 0, 2)x(0, 0, 2, 7)7 - AIC:9816.828928818435\n",
      "SARIMA(0, 0, 2)x(1, 0, 0, 7)7 - AIC:9486.624227160857\n",
      "SARIMA(0, 0, 2)x(1, 0, 1, 7)7 - AIC:8952.954465482344\n",
      "SARIMA(0, 0, 2)x(1, 0, 2, 7)7 - AIC:8914.571129167784\n",
      "SARIMA(0, 0, 2)x(2, 0, 0, 7)7 - AIC:9122.081657676565\n",
      "SARIMA(0, 0, 2)x(2, 0, 1, 7)7 - AIC:8894.885410585135\n",
      "SARIMA(0, 0, 2)x(2, 0, 2, 7)7 - AIC:9011.317285508776\n",
      "SARIMA(1, 0, 0)x(0, 0, 0, 7)7 - AIC:10523.341431346827\n",
      "SARIMA(1, 0, 0)x(0, 0, 1, 7)7 - AIC:10068.947488852336\n",
      "SARIMA(1, 0, 0)x(0, 0, 2, 7)7 - AIC:9797.238079814131\n",
      "SARIMA(1, 0, 0)x(1, 0, 0, 7)7 - AIC:9481.926224339604\n",
      "SARIMA(1, 0, 0)x(1, 0, 1, 7)7 - AIC:8975.188075478036\n",
      "SARIMA(1, 0, 0)x(1, 0, 2, 7)7 - AIC:8885.601458648802\n",
      "SARIMA(1, 0, 0)x(2, 0, 0, 7)7 - AIC:9112.256640045798\n",
      "SARIMA(1, 0, 0)x(2, 0, 1, 7)7 - AIC:8881.355112944864\n",
      "SARIMA(1, 0, 0)x(2, 0, 2, 7)7 - AIC:8994.654176257141\n",
      "SARIMA(1, 0, 1)x(0, 0, 0, 7)7 - AIC:10014.82613311947\n",
      "SARIMA(1, 0, 1)x(0, 0, 1, 7)7 - AIC:9786.62205448927\n",
      "SARIMA(1, 0, 1)x(0, 0, 2, 7)7 - AIC:9615.51878884367\n",
      "SARIMA(1, 0, 1)x(1, 0, 0, 7)7 - AIC:9470.00141575984\n",
      "SARIMA(1, 0, 1)x(1, 0, 1, 7)7 - AIC:9108.20816806492\n",
      "SARIMA(1, 0, 1)x(1, 0, 2, 7)7 - AIC:9181.093984506295\n",
      "SARIMA(1, 0, 1)x(2, 0, 0, 7)7 - AIC:9113.974701535308\n",
      "SARIMA(1, 0, 1)x(2, 0, 1, 7)7 - AIC:9459.681779486382\n",
      "SARIMA(1, 0, 1)x(2, 0, 2, 7)7 - AIC:9433.484534506726\n",
      "SARIMA(1, 0, 2)x(0, 0, 0, 7)7 - AIC:9964.567259864069\n",
      "SARIMA(1, 0, 2)x(0, 0, 1, 7)7 - AIC:9751.96215960573\n",
      "SARIMA(1, 0, 2)x(0, 0, 2, 7)7 - AIC:9575.161964112955\n",
      "SARIMA(1, 0, 2)x(1, 0, 0, 7)7 - AIC:9436.6755608187\n",
      "SARIMA(1, 0, 2)x(1, 0, 1, 7)7 - AIC:9503.94980843315\n",
      "SARIMA(1, 0, 2)x(1, 0, 2, 7)7 - AIC:9411.685493651123\n",
      "SARIMA(1, 0, 2)x(2, 0, 0, 7)7 - AIC:9095.413945640605\n",
      "SARIMA(1, 0, 2)x(2, 0, 1, 7)7 - AIC:9434.297516777398\n",
      "SARIMA(1, 0, 2)x(2, 0, 2, 7)7 - AIC:9407.489934597183\n",
      "SARIMA(2, 0, 0)x(0, 0, 0, 7)7 - AIC:10338.339792999152\n",
      "SARIMA(2, 0, 0)x(0, 0, 1, 7)7 - AIC:9932.896157681433\n",
      "SARIMA(2, 0, 0)x(0, 0, 2, 7)7 - AIC:9659.026836592418\n",
      "SARIMA(2, 0, 0)x(1, 0, 0, 7)7 - AIC:9447.701506828282\n",
      "SARIMA(2, 0, 0)x(1, 0, 1, 7)7 - AIC:8969.484877656934\n",
      "SARIMA(2, 0, 0)x(1, 0, 2, 7)7 - AIC:8895.224304166142\n",
      "SARIMA(2, 0, 0)x(2, 0, 0, 7)7 - AIC:9097.982800844786\n",
      "SARIMA(2, 0, 0)x(2, 0, 1, 7)7 - AIC:9100.309545664766\n",
      "SARIMA(2, 0, 0)x(2, 0, 2, 7)7 - AIC:8867.98926625112\n",
      "SARIMA(2, 0, 1)x(0, 0, 0, 7)7 - AIC:10025.524224640845\n",
      "SARIMA(2, 0, 1)x(0, 0, 1, 7)7 - AIC:9786.735418728611\n",
      "SARIMA(2, 0, 1)x(0, 0, 2, 7)7 - AIC:9615.088399211321\n",
      "SARIMA(2, 0, 1)x(1, 0, 0, 7)7 - AIC:9668.339740042064\n",
      "SARIMA(2, 0, 1)x(1, 0, 1, 7)7 - AIC:9411.954890067871\n",
      "SARIMA(2, 0, 1)x(1, 0, 2, 7)7 - AIC:9459.530480205605\n",
      "SARIMA(2, 0, 1)x(2, 0, 0, 7)7 - AIC:9153.585396451937\n",
      "SARIMA(2, 0, 1)x(2, 0, 1, 7)7 - AIC:9456.309095630739\n",
      "SARIMA(2, 0, 1)x(2, 0, 2, 7)7 - AIC:9460.607340841554\n",
      "SARIMA(2, 0, 2)x(0, 0, 0, 7)7 - AIC:9943.95315950572\n",
      "SARIMA(2, 0, 2)x(0, 0, 1, 7)7 - AIC:9753.688440092588\n",
      "SARIMA(2, 0, 2)x(0, 0, 2, 7)7 - AIC:9576.605856367916\n",
      "SARIMA(2, 0, 2)x(1, 0, 0, 7)7 - AIC:9631.426491374283\n",
      "SARIMA(2, 0, 2)x(1, 0, 1, 7)7 - AIC:9505.217674783593\n",
      "SARIMA(2, 0, 2)x(1, 0, 2, 7)7 - AIC:9412.036616122903\n",
      "SARIMA(2, 0, 2)x(2, 0, 0, 7)7 - AIC:9348.405691298123\n",
      "SARIMA(2, 0, 2)x(2, 0, 1, 7)7 - AIC:9422.762153096162\n",
      "SARIMA(2, 0, 2)x(2, 0, 2, 7)7 - AIC:9410.586874793784\n"
     ]
    }
   ],
   "source": [
    "for param in pdq:\n",
    "    for param_seasonal in model_pdq:\n",
    "        SARIMA_model = sm.tsa.statespace.SARIMAX(train['Customers'],\n",
    "                                            order=param,\n",
    "                                            seasonal_order=param_seasonal,\n",
    "                                            enforce_stationarity=False,\n",
    "                                            enforce_invertibility=False)\n",
    "            \n",
    "        results_SARIMA = SARIMA_model.fit()\n",
    "        print('SARIMA{}x{}7 - AIC:{}'.format(param, param_seasonal, results_SARIMA.aic))\n",
    "        SARIMA_AIC = SARIMA_AIC.append({'param':param,'seasonal':param_seasonal ,'AIC': results_SARIMA.aic}, ignore_index=True)"
   ]
  },
  {
   "cell_type": "code",
   "execution_count": 131,
   "id": "c74173bc",
   "metadata": {
    "ExecuteTime": {
     "end_time": "2020-05-29T09:47:42.602395Z",
     "start_time": "2020-05-29T09:47:42.552900Z"
    }
   },
   "outputs": [
    {
     "data": {
      "text/html": [
       "<div>\n",
       "<style scoped>\n",
       "    .dataframe tbody tr th:only-of-type {\n",
       "        vertical-align: middle;\n",
       "    }\n",
       "\n",
       "    .dataframe tbody tr th {\n",
       "        vertical-align: top;\n",
       "    }\n",
       "\n",
       "    .dataframe thead th {\n",
       "        text-align: right;\n",
       "    }\n",
       "</style>\n",
       "<table border=\"1\" class=\"dataframe\">\n",
       "  <thead>\n",
       "    <tr style=\"text-align: right;\">\n",
       "      <th></th>\n",
       "      <th>param</th>\n",
       "      <th>seasonal</th>\n",
       "      <th>AIC</th>\n",
       "    </tr>\n",
       "  </thead>\n",
       "  <tbody>\n",
       "    <tr>\n",
       "      <th>17</th>\n",
       "      <td>(0, 0, 1)</td>\n",
       "      <td>(2, 0, 2, 7)</td>\n",
       "      <td>8865.99454</td>\n",
       "    </tr>\n",
       "    <tr>\n",
       "      <th>62</th>\n",
       "      <td>(2, 0, 0)</td>\n",
       "      <td>(2, 0, 2, 7)</td>\n",
       "      <td>8867.989266</td>\n",
       "    </tr>\n",
       "    <tr>\n",
       "      <th>14</th>\n",
       "      <td>(0, 0, 1)</td>\n",
       "      <td>(1, 0, 2, 7)</td>\n",
       "      <td>8874.46253</td>\n",
       "    </tr>\n",
       "    <tr>\n",
       "      <th>34</th>\n",
       "      <td>(1, 0, 0)</td>\n",
       "      <td>(2, 0, 1, 7)</td>\n",
       "      <td>8881.355113</td>\n",
       "    </tr>\n",
       "    <tr>\n",
       "      <th>8</th>\n",
       "      <td>(0, 0, 0)</td>\n",
       "      <td>(2, 0, 2, 7)</td>\n",
       "      <td>8885.374418</td>\n",
       "    </tr>\n",
       "  </tbody>\n",
       "</table>\n",
       "</div>"
      ],
      "text/plain": [
       "        param      seasonal          AIC\n",
       "17  (0, 0, 1)  (2, 0, 2, 7)   8865.99454\n",
       "62  (2, 0, 0)  (2, 0, 2, 7)  8867.989266\n",
       "14  (0, 0, 1)  (1, 0, 2, 7)   8874.46253\n",
       "34  (1, 0, 0)  (2, 0, 1, 7)  8881.355113\n",
       "8   (0, 0, 0)  (2, 0, 2, 7)  8885.374418"
      ]
     },
     "execution_count": 131,
     "metadata": {},
     "output_type": "execute_result"
    }
   ],
   "source": [
    "SARIMA_AIC.sort_values(by=['AIC']).head()"
   ]
  },
  {
   "cell_type": "code",
   "execution_count": 132,
   "id": "e7a48ea4",
   "metadata": {
    "ExecuteTime": {
     "end_time": "2020-05-29T09:47:52.048202Z",
     "start_time": "2020-05-29T09:47:42.606385Z"
    },
    "colab": {
     "base_uri": "https://localhost:8080/",
     "height": 476
    },
    "colab_type": "code",
    "id": "WOR7SZy41J6W",
    "outputId": "554ccb7e-ffde-4876-c7bb-b671e2cb73dd"
   },
   "outputs": [
    {
     "name": "stdout",
     "output_type": "stream",
     "text": [
      "                                       SARIMAX Results                                        \n",
      "==============================================================================================\n",
      "Dep. Variable:                              Customers   No. Observations:                  730\n",
      "Model:             SARIMAX(0, 0, 1)x(2, 0, [1, 2], 7)   Log Likelihood               -4426.997\n",
      "Date:                                Mon, 20 May 2024   AIC                           8865.995\n",
      "Time:                                        21:22:35   BIC                           8893.420\n",
      "Sample:                                             0   HQIC                          8876.586\n",
      "                                                - 730                                         \n",
      "Covariance Type:                                  opg                                         \n",
      "==============================================================================\n",
      "                 coef    std err          z      P>|z|      [0.025      0.975]\n",
      "------------------------------------------------------------------------------\n",
      "ma.L1          0.0196      0.023      0.836      0.403      -0.026       0.065\n",
      "ar.S.L7        0.2942      0.114      2.576      0.010       0.070       0.518\n",
      "ar.S.L14       0.7104      0.115      6.204      0.000       0.486       0.935\n",
      "ma.S.L7        0.7130      0.465      1.534      0.125      -0.198       1.624\n",
      "ma.S.L14      -1.7159      0.543     -3.159      0.002      -2.781      -0.651\n",
      "sigma2      4677.0931   2310.343      2.024      0.043     148.905    9205.282\n",
      "===================================================================================\n",
      "Ljung-Box (L1) (Q):                   0.11   Jarque-Bera (JB):              5106.01\n",
      "Prob(Q):                              0.74   Prob(JB):                         0.00\n",
      "Heteroskedasticity (H):               1.63   Skew:                            -2.58\n",
      "Prob(H) (two-sided):                  0.00   Kurtosis:                        15.04\n",
      "===================================================================================\n",
      "\n",
      "Warnings:\n",
      "[1] Covariance matrix calculated using the outer product of gradients (complex-step).\n"
     ]
    }
   ],
   "source": [
    "## SARIMA(0, 0, 1)(2, 0, 2, 7)\n",
    "mod = sm.tsa.statespace.SARIMAX(train['Customers'],\n",
    "                                order=(0,0,1),\n",
    "                                seasonal_order=(2, 0, 2, 7),\n",
    "                                enforce_stationarity=False,\n",
    "                                enforce_invertibility=False)\n",
    "results_SARIMA = mod.fit()\n",
    "print(results_SARIMA.summary())"
   ]
  },
  {
   "cell_type": "code",
   "execution_count": 133,
   "id": "b0f34d38",
   "metadata": {
    "ExecuteTime": {
     "end_time": "2020-05-29T09:47:53.793138Z",
     "start_time": "2020-05-29T09:47:52.053322Z"
    },
    "colab": {
     "base_uri": "https://localhost:8080/",
     "height": 513
    },
    "colab_type": "code",
    "id": "IZLtRcwv1J6f",
    "outputId": "4117a9e5-1add-4cec-8841-4da79a25e009"
   },
   "outputs": [
    {
     "data": {
      "image/png": "[encoded data removed]",
      "text/plain": [
       "<Figure size 1152x576 with 4 Axes>"
      ]
     },
     "metadata": {},
     "output_type": "display_data"
    }
   ],
   "source": [
    "results_SARIMA.plot_diagnostics(figsize=(16, 8))\n",
    "plt.show()"
   ]
  },
  {
   "cell_type": "code",
   "execution_count": 134,
   "id": "89192c7c",
   "metadata": {
    "ExecuteTime": {
     "end_time": "2020-05-29T09:47:53.839713Z",
     "start_time": "2020-05-29T09:47:53.794966Z"
    },
    "colab": {
     "base_uri": "https://localhost:8080/",
     "height": 204
    },
    "colab_type": "code",
    "id": "8i8HAivm1J6q",
    "outputId": "f4820826-1979-4e6b-f059-43185c44d5ee"
   },
   "outputs": [
    {
     "data": {
      "text/html": [
       "<div>\n",
       "<style scoped>\n",
       "    .dataframe tbody tr th:only-of-type {\n",
       "        vertical-align: middle;\n",
       "    }\n",
       "\n",
       "    .dataframe tbody tr th {\n",
       "        vertical-align: top;\n",
       "    }\n",
       "\n",
       "    .dataframe thead th {\n",
       "        text-align: right;\n",
       "    }\n",
       "</style>\n",
       "<table border=\"1\" class=\"dataframe\">\n",
       "  <thead>\n",
       "    <tr style=\"text-align: right;\">\n",
       "      <th></th>\n",
       "      <th>Store</th>\n",
       "      <th>DayOfWeek</th>\n",
       "      <th>Date</th>\n",
       "      <th>Customers</th>\n",
       "      <th>Open</th>\n",
       "      <th>Promotion</th>\n",
       "      <th>StateHoliday</th>\n",
       "      <th>SchoolHoliday</th>\n",
       "      <th>Year</th>\n",
       "    </tr>\n",
       "  </thead>\n",
       "  <tbody>\n",
       "    <tr>\n",
       "      <th>7701</th>\n",
       "      <td>1044</td>\n",
       "      <td>4</td>\n",
       "      <td>2016-01-01</td>\n",
       "      <td>0.0</td>\n",
       "      <td>0</td>\n",
       "      <td>0</td>\n",
       "      <td>a</td>\n",
       "      <td>1</td>\n",
       "      <td>2016</td>\n",
       "    </tr>\n",
       "    <tr>\n",
       "      <th>7650</th>\n",
       "      <td>1044</td>\n",
       "      <td>5</td>\n",
       "      <td>2016-02-01</td>\n",
       "      <td>633.0</td>\n",
       "      <td>1</td>\n",
       "      <td>0</td>\n",
       "      <td>0</td>\n",
       "      <td>1</td>\n",
       "      <td>2016</td>\n",
       "    </tr>\n",
       "    <tr>\n",
       "      <th>7599</th>\n",
       "      <td>1044</td>\n",
       "      <td>6</td>\n",
       "      <td>2016-03-01</td>\n",
       "      <td>530.0</td>\n",
       "      <td>1</td>\n",
       "      <td>0</td>\n",
       "      <td>0</td>\n",
       "      <td>0</td>\n",
       "      <td>2016</td>\n",
       "    </tr>\n",
       "    <tr>\n",
       "      <th>7548</th>\n",
       "      <td>1044</td>\n",
       "      <td>7</td>\n",
       "      <td>2016-04-01</td>\n",
       "      <td>0.0</td>\n",
       "      <td>0</td>\n",
       "      <td>0</td>\n",
       "      <td>0</td>\n",
       "      <td>0</td>\n",
       "      <td>2016</td>\n",
       "    </tr>\n",
       "    <tr>\n",
       "      <th>7497</th>\n",
       "      <td>1044</td>\n",
       "      <td>1</td>\n",
       "      <td>2016-05-01</td>\n",
       "      <td>845.0</td>\n",
       "      <td>1</td>\n",
       "      <td>1</td>\n",
       "      <td>0</td>\n",
       "      <td>1</td>\n",
       "      <td>2016</td>\n",
       "    </tr>\n",
       "  </tbody>\n",
       "</table>\n",
       "</div>"
      ],
      "text/plain": [
       "      Store  DayOfWeek       Date  Customers  Open  Promotion StateHoliday  \\\n",
       "7701   1044          4 2016-01-01        0.0     0          0            a   \n",
       "7650   1044          5 2016-02-01      633.0     1          0            0   \n",
       "7599   1044          6 2016-03-01      530.0     1          0            0   \n",
       "7548   1044          7 2016-04-01        0.0     0          0            0   \n",
       "7497   1044          1 2016-05-01      845.0     1          1            0   \n",
       "\n",
       "      SchoolHoliday  Year  \n",
       "7701              1  2016  \n",
       "7650              1  2016  \n",
       "7599              0  2016  \n",
       "7548              0  2016  \n",
       "7497              1  2016  "
      ]
     },
     "execution_count": 134,
     "metadata": {},
     "output_type": "execute_result"
    }
   ],
   "source": [
    "test.head()"
   ]
  },
  {
   "cell_type": "code",
   "execution_count": 135,
   "id": "328c667e",
   "metadata": {
    "ExecuteTime": {
     "end_time": "2020-05-29T09:47:54.025100Z",
     "start_time": "2020-05-29T09:47:53.844895Z"
    },
    "colab": {
     "base_uri": "https://localhost:8080/",
     "height": 221
    },
    "colab_type": "code",
    "id": "Kb9l_9QFr0RA",
    "outputId": "0f9960b5-cbcf-42d2-c48a-0a33c1c09afe"
   },
   "outputs": [
    {
     "data": {
      "text/plain": [
       "730    647.804051\n",
       "731    707.321588\n",
       "732    618.242930\n",
       "733     -0.003245\n",
       "734    732.203593\n",
       "          ...    \n",
       "877    598.651024\n",
       "878    651.136497\n",
       "879    633.951578\n",
       "880     -0.003182\n",
       "881    757.204322\n",
       "Name: predicted_mean, Length: 152, dtype: float64"
      ]
     },
     "execution_count": 135,
     "metadata": {},
     "output_type": "execute_result"
    }
   ],
   "source": [
    "test.Customers= test.Customers.astype(float)\n",
    "final_hat_avg =test.copy()\n",
    "pred = results_SARIMA.get_forecast(steps=152)\n",
    "pred.predicted_mean"
   ]
  },
  {
   "cell_type": "code",
   "execution_count": 136,
   "id": "dc8b4555",
   "metadata": {
    "ExecuteTime": {
     "end_time": "2020-05-29T09:47:54.150564Z",
     "start_time": "2020-05-29T09:47:54.028212Z"
    }
   },
   "outputs": [
    {
     "data": {
      "text/html": [
       "<div>\n",
       "<style scoped>\n",
       "    .dataframe tbody tr th:only-of-type {\n",
       "        vertical-align: middle;\n",
       "    }\n",
       "\n",
       "    .dataframe tbody tr th {\n",
       "        vertical-align: top;\n",
       "    }\n",
       "\n",
       "    .dataframe thead th {\n",
       "        text-align: right;\n",
       "    }\n",
       "</style>\n",
       "<table border=\"1\" class=\"dataframe\">\n",
       "  <thead>\n",
       "    <tr style=\"text-align: right;\">\n",
       "      <th>Customers</th>\n",
       "      <th>mean</th>\n",
       "      <th>mean_se</th>\n",
       "      <th>mean_ci_lower</th>\n",
       "      <th>mean_ci_upper</th>\n",
       "    </tr>\n",
       "  </thead>\n",
       "  <tbody>\n",
       "    <tr>\n",
       "      <th>730</th>\n",
       "      <td>647.804051</td>\n",
       "      <td>117.852568</td>\n",
       "      <td>416.817263</td>\n",
       "      <td>878.790839</td>\n",
       "    </tr>\n",
       "    <tr>\n",
       "      <th>731</th>\n",
       "      <td>707.321588</td>\n",
       "      <td>117.875120</td>\n",
       "      <td>476.290598</td>\n",
       "      <td>938.352578</td>\n",
       "    </tr>\n",
       "    <tr>\n",
       "      <th>732</th>\n",
       "      <td>618.242930</td>\n",
       "      <td>117.875120</td>\n",
       "      <td>387.211940</td>\n",
       "      <td>849.273920</td>\n",
       "    </tr>\n",
       "    <tr>\n",
       "      <th>733</th>\n",
       "      <td>-0.003245</td>\n",
       "      <td>117.875120</td>\n",
       "      <td>-231.034235</td>\n",
       "      <td>231.027745</td>\n",
       "    </tr>\n",
       "    <tr>\n",
       "      <th>734</th>\n",
       "      <td>732.203593</td>\n",
       "      <td>117.875120</td>\n",
       "      <td>501.172603</td>\n",
       "      <td>963.234583</td>\n",
       "    </tr>\n",
       "    <tr>\n",
       "      <th>...</th>\n",
       "      <td>...</td>\n",
       "      <td>...</td>\n",
       "      <td>...</td>\n",
       "      <td>...</td>\n",
       "    </tr>\n",
       "    <tr>\n",
       "      <th>877</th>\n",
       "      <td>598.651024</td>\n",
       "      <td>119.657053</td>\n",
       "      <td>364.127511</td>\n",
       "      <td>833.174538</td>\n",
       "    </tr>\n",
       "    <tr>\n",
       "      <th>878</th>\n",
       "      <td>651.136497</td>\n",
       "      <td>119.657056</td>\n",
       "      <td>416.612977</td>\n",
       "      <td>885.660016</td>\n",
       "    </tr>\n",
       "    <tr>\n",
       "      <th>879</th>\n",
       "      <td>633.951578</td>\n",
       "      <td>119.657056</td>\n",
       "      <td>399.428059</td>\n",
       "      <td>868.475098</td>\n",
       "    </tr>\n",
       "    <tr>\n",
       "      <th>880</th>\n",
       "      <td>-0.003182</td>\n",
       "      <td>119.657056</td>\n",
       "      <td>-234.526701</td>\n",
       "      <td>234.520338</td>\n",
       "    </tr>\n",
       "    <tr>\n",
       "      <th>881</th>\n",
       "      <td>757.204322</td>\n",
       "      <td>119.657056</td>\n",
       "      <td>522.680802</td>\n",
       "      <td>991.727841</td>\n",
       "    </tr>\n",
       "  </tbody>\n",
       "</table>\n",
       "<p>152 rows × 4 columns</p>\n",
       "</div>"
      ],
      "text/plain": [
       "Customers        mean     mean_se  mean_ci_lower  mean_ci_upper\n",
       "730        647.804051  117.852568     416.817263     878.790839\n",
       "731        707.321588  117.875120     476.290598     938.352578\n",
       "732        618.242930  117.875120     387.211940     849.273920\n",
       "733         -0.003245  117.875120    -231.034235     231.027745\n",
       "734        732.203593  117.875120     501.172603     963.234583\n",
       "..                ...         ...            ...            ...\n",
       "877        598.651024  119.657053     364.127511     833.174538\n",
       "878        651.136497  119.657056     416.612977     885.660016\n",
       "879        633.951578  119.657056     399.428059     868.475098\n",
       "880         -0.003182  119.657056    -234.526701     234.520338\n",
       "881        757.204322  119.657056     522.680802     991.727841\n",
       "\n",
       "[152 rows x 4 columns]"
      ]
     },
     "execution_count": 136,
     "metadata": {},
     "output_type": "execute_result"
    }
   ],
   "source": [
    "pred.summary_frame()"
   ]
  },
  {
   "cell_type": "code",
   "execution_count": 137,
   "id": "a829b782",
   "metadata": {
    "ExecuteTime": {
     "end_time": "2020-05-29T09:47:54.318752Z",
     "start_time": "2020-05-29T09:47:54.152862Z"
    },
    "colab": {
     "base_uri": "https://localhost:8080/",
     "height": 34
    },
    "colab_type": "code",
    "id": "QSUJhdUj1J66",
    "outputId": "fb4bef8c-e7fe-4cac-e6c7-4609f4d6522f"
   },
   "outputs": [
    {
     "name": "stdout",
     "output_type": "stream",
     "text": [
      "149.54807697536063\n"
     ]
    }
   ],
   "source": [
    "from math import sqrt\n",
    "from sklearn.metrics import mean_squared_error\n",
    "rmse = sqrt(mean_squared_error(test.Customers ,pred.predicted_mean))\n",
    "print(rmse)"
   ]
  },
  {
   "cell_type": "code",
   "execution_count": 138,
   "id": "621f2220",
   "metadata": {
    "ExecuteTime": {
     "end_time": "2020-05-29T09:47:54.504034Z",
     "start_time": "2020-05-29T09:47:54.320602Z"
    }
   },
   "outputs": [
    {
     "data": {
      "text/html": [
       "<div>\n",
       "<style scoped>\n",
       "    .dataframe tbody tr th:only-of-type {\n",
       "        vertical-align: middle;\n",
       "    }\n",
       "\n",
       "    .dataframe tbody tr th {\n",
       "        vertical-align: top;\n",
       "    }\n",
       "\n",
       "    .dataframe thead th {\n",
       "        text-align: right;\n",
       "    }\n",
       "</style>\n",
       "<table border=\"1\" class=\"dataframe\">\n",
       "  <thead>\n",
       "    <tr style=\"text-align: right;\">\n",
       "      <th></th>\n",
       "      <th>RMSE</th>\n",
       "    </tr>\n",
       "  </thead>\n",
       "  <tbody>\n",
       "    <tr>\n",
       "      <th>ARIMA(1,0,2)</th>\n",
       "      <td>271.658676</td>\n",
       "    </tr>\n",
       "    <tr>\n",
       "      <th>SARIMA(0,0,1)(2,0,2)7</th>\n",
       "      <td>149.548077</td>\n",
       "    </tr>\n",
       "  </tbody>\n",
       "</table>\n",
       "</div>"
      ],
      "text/plain": [
       "                             RMSE\n",
       "ARIMA(1,0,2)           271.658676\n",
       "SARIMA(0,0,1)(2,0,2)7  149.548077"
      ]
     },
     "execution_count": 138,
     "metadata": {},
     "output_type": "execute_result"
    }
   ],
   "source": [
    "temp_resultsDf = pd.DataFrame({'RMSE': [rmse]}\n",
    "                           ,index=['SARIMA(0,0,1)(2,0,2)7'])\n",
    "\n",
    "resultsDf = pd.concat([resultsDf, temp_resultsDf])\n",
    "resultsDf"
   ]
  },
  {
   "cell_type": "markdown",
   "id": "5889ae28",
   "metadata": {},
   "source": [
    "<a id=\"eda\"><a>\n",
    "<table align=\"center\" width=100%>\n",
    "    <tr>\n",
    "        <td>\n",
    "            <div align=\"left\">\n",
    "                <font color=\"#21619\" size=3px>                   \n",
    "                    <b>  To get the real forecast for 7 days, we will rerun the model on the complete dataset for Store_1044\n",
    "                    </b>\n",
    "                </font>\n",
    "            </div>\n",
    "        </td>\n",
    "    </tr>\n",
    "</table>"
   ]
  },
  {
   "cell_type": "code",
   "execution_count": 139,
   "id": "f2b587e4",
   "metadata": {},
   "outputs": [
    {
     "name": "stdout",
     "output_type": "stream",
     "text": [
      "                                       SARIMAX Results                                        \n",
      "==============================================================================================\n",
      "Dep. Variable:                              Customers   No. Observations:                  882\n",
      "Model:             SARIMAX(0, 0, 1)x(2, 0, [1, 2], 7)   Log Likelihood               -5408.456\n",
      "Date:                                Mon, 20 May 2024   AIC                          10828.911\n",
      "Time:                                        21:23:09   BIC                          10857.494\n",
      "Sample:                                             0   HQIC                         10839.850\n",
      "                                                - 882                                         \n",
      "Covariance Type:                                  opg                                         \n",
      "==============================================================================\n",
      "                 coef    std err          z      P>|z|      [0.025      0.975]\n",
      "------------------------------------------------------------------------------\n",
      "ma.L1          0.0063      0.023      0.273      0.785      -0.039       0.051\n",
      "ar.S.L7        0.2530      0.099      2.559      0.010       0.059       0.447\n",
      "ar.S.L14       0.7512      0.099      7.579      0.000       0.557       0.945\n",
      "ma.S.L7       -0.3391      0.108     -3.150      0.002      -0.550      -0.128\n",
      "ma.S.L14      -0.6605      0.111     -5.953      0.000      -0.878      -0.443\n",
      "sigma2      1.508e+04    3.1e-06   4.87e+09      0.000    1.51e+04    1.51e+04\n",
      "===================================================================================\n",
      "Ljung-Box (L1) (Q):                   0.01   Jarque-Bera (JB):              7143.56\n",
      "Prob(Q):                              0.93   Prob(JB):                         0.00\n",
      "Heteroskedasticity (H):               1.87   Skew:                            -2.82\n",
      "Prob(H) (two-sided):                  0.00   Kurtosis:                        15.89\n",
      "===================================================================================\n",
      "\n",
      "Warnings:\n",
      "[1] Covariance matrix calculated using the outer product of gradients (complex-step).\n",
      "[2] Covariance matrix is singular or near-singular, with condition number 9.26e+24. Standard errors may be unstable.\n"
     ]
    }
   ],
   "source": [
    "mod = sm.tsa.statespace.SARIMAX(Store_1044['Customers'],\n",
    "                                order=(0,0,1),\n",
    "                                seasonal_order=(2, 0, 2, 7),\n",
    "                                enforce_stationarity=False,\n",
    "                                enforce_invertibility=False)\n",
    "results = mod.fit()\n",
    "print(results.summary())"
   ]
  },
  {
   "cell_type": "code",
   "execution_count": 140,
   "id": "4b2f20f6",
   "metadata": {
    "scrolled": true
   },
   "outputs": [
    {
     "data": {
      "text/plain": [
       "882    668.137828\n",
       "883    623.444574\n",
       "884    609.399568\n",
       "885    641.699139\n",
       "886    618.920521\n",
       "887     -0.001046\n",
       "888    673.429057\n",
       "Name: predicted_mean, dtype: float64"
      ]
     },
     "execution_count": 140,
     "metadata": {},
     "output_type": "execute_result"
    }
   ],
   "source": [
    "pred = results.get_forecast(steps = 7)\n",
    "pred.predicted_mean"
   ]
  },
  {
   "cell_type": "code",
   "execution_count": 141,
   "id": "6569349c",
   "metadata": {},
   "outputs": [
    {
     "data": {
      "text/html": [
       "<div>\n",
       "<style scoped>\n",
       "    .dataframe tbody tr th:only-of-type {\n",
       "        vertical-align: middle;\n",
       "    }\n",
       "\n",
       "    .dataframe tbody tr th {\n",
       "        vertical-align: top;\n",
       "    }\n",
       "\n",
       "    .dataframe thead th {\n",
       "        text-align: right;\n",
       "    }\n",
       "</style>\n",
       "<table border=\"1\" class=\"dataframe\">\n",
       "  <thead>\n",
       "    <tr style=\"text-align: right;\">\n",
       "      <th>Customers</th>\n",
       "      <th>mean</th>\n",
       "      <th>mean_se</th>\n",
       "      <th>mean_ci_lower</th>\n",
       "      <th>mean_ci_upper</th>\n",
       "    </tr>\n",
       "  </thead>\n",
       "  <tbody>\n",
       "    <tr>\n",
       "      <th>882</th>\n",
       "      <td>668.137828</td>\n",
       "      <td>123.284467</td>\n",
       "      <td>426.504713</td>\n",
       "      <td>909.770943</td>\n",
       "    </tr>\n",
       "    <tr>\n",
       "      <th>883</th>\n",
       "      <td>623.444574</td>\n",
       "      <td>123.286885</td>\n",
       "      <td>381.806720</td>\n",
       "      <td>865.082428</td>\n",
       "    </tr>\n",
       "    <tr>\n",
       "      <th>884</th>\n",
       "      <td>609.399568</td>\n",
       "      <td>123.282991</td>\n",
       "      <td>367.769346</td>\n",
       "      <td>851.029790</td>\n",
       "    </tr>\n",
       "    <tr>\n",
       "      <th>885</th>\n",
       "      <td>641.699139</td>\n",
       "      <td>123.282991</td>\n",
       "      <td>400.068917</td>\n",
       "      <td>883.329361</td>\n",
       "    </tr>\n",
       "    <tr>\n",
       "      <th>886</th>\n",
       "      <td>618.920521</td>\n",
       "      <td>123.282991</td>\n",
       "      <td>377.290298</td>\n",
       "      <td>860.550743</td>\n",
       "    </tr>\n",
       "    <tr>\n",
       "      <th>887</th>\n",
       "      <td>-0.001046</td>\n",
       "      <td>123.282991</td>\n",
       "      <td>-241.631268</td>\n",
       "      <td>241.629176</td>\n",
       "    </tr>\n",
       "    <tr>\n",
       "      <th>888</th>\n",
       "      <td>673.429057</td>\n",
       "      <td>123.282991</td>\n",
       "      <td>431.798835</td>\n",
       "      <td>915.059279</td>\n",
       "    </tr>\n",
       "  </tbody>\n",
       "</table>\n",
       "</div>"
      ],
      "text/plain": [
       "Customers        mean     mean_se  mean_ci_lower  mean_ci_upper\n",
       "882        668.137828  123.284467     426.504713     909.770943\n",
       "883        623.444574  123.286885     381.806720     865.082428\n",
       "884        609.399568  123.282991     367.769346     851.029790\n",
       "885        641.699139  123.282991     400.068917     883.329361\n",
       "886        618.920521  123.282991     377.290298     860.550743\n",
       "887         -0.001046  123.282991    -241.631268     241.629176\n",
       "888        673.429057  123.282991     431.798835     915.059279"
      ]
     },
     "execution_count": 141,
     "metadata": {},
     "output_type": "execute_result"
    }
   ],
   "source": [
    "pred.summary_frame()"
   ]
  },
  {
   "cell_type": "markdown",
   "id": "7d5c8ac3",
   "metadata": {},
   "source": [
    "# SARIMAX Models"
   ]
  },
  {
   "cell_type": "markdown",
   "id": "dd35f2a3",
   "metadata": {},
   "source": [
    "<a id=\"eda\"><a>\n",
    "<table align=\"center\" width=100%>\n",
    "    <tr>\n",
    "        <td>\n",
    "            <div align=\"left\">\n",
    "                <font color=\"#21619\" size=3px>                   \n",
    "                    <b>  This dataset has exogeneous variables and hence the same should be considered while creating the model \n",
    "# so to start with let's cretae a subset which only has exogeneous variables\n",
    "                    </b>\n",
    "                </font>\n",
    "            </div>\n",
    "        </td>\n",
    "    </tr>\n",
    "</table>"
   ]
  },
  {
   "cell_type": "markdown",
   "id": "a87f9ea2",
   "metadata": {},
   "source": [
    "<a id=\"eda\"><a>\n",
    "<table align=\"center\" width=100%>\n",
    "    <tr>\n",
    "        <td>\n",
    "            <div align=\"left\">\n",
    "                <font color=\"#21619\" size=2px>                   \n",
    "                    <b>  Using Regression Analysis to improve Forecast\n",
    "                    </b>\n",
    "                </font>\n",
    "            </div>\n",
    "        </td>\n",
    "    </tr>\n",
    "</table>"
   ]
  },
  {
   "cell_type": "code",
   "execution_count": 65,
   "id": "19a3741e",
   "metadata": {
    "scrolled": true
   },
   "outputs": [
    {
     "name": "stdout",
     "output_type": "stream",
     "text": [
      "<class 'pandas.core.frame.DataFrame'>\n",
      "Int64Index: 730 entries, 43275 to 7752\n",
      "Data columns (total 9 columns):\n",
      " #   Column         Non-Null Count  Dtype         \n",
      "---  ------         --------------  -----         \n",
      " 0   Store          730 non-null    int64         \n",
      " 1   DayOfWeek      730 non-null    int64         \n",
      " 2   Date           730 non-null    datetime64[ns]\n",
      " 3   Customers      730 non-null    int64         \n",
      " 4   Open           730 non-null    int64         \n",
      " 5   Promotion      730 non-null    int64         \n",
      " 6   StateHoliday   730 non-null    object        \n",
      " 7   SchoolHoliday  730 non-null    int64         \n",
      " 8   Year           730 non-null    int64         \n",
      "dtypes: datetime64[ns](1), int64(7), object(1)\n",
      "memory usage: 57.0+ KB\n"
     ]
    }
   ],
   "source": [
    "train.info()"
   ]
  },
  {
   "cell_type": "code",
   "execution_count": 66,
   "id": "5c11b2aa",
   "metadata": {
    "ExecuteTime": {
     "end_time": "2020-05-29T09:48:04.254288Z",
     "start_time": "2020-05-29T09:48:04.125108Z"
    },
    "colab": {},
    "colab_type": "code",
    "id": "KyboBLJe1J8E"
   },
   "outputs": [],
   "source": [
    "ex_train=train[['Open','Promotion','StateHoliday','SchoolHoliday']]\n",
    "ex_test=test[['Open','Promotion','StateHoliday','SchoolHoliday']]"
   ]
  },
  {
   "cell_type": "code",
   "execution_count": 67,
   "id": "7947686a",
   "metadata": {
    "ExecuteTime": {
     "end_time": "2020-05-29T09:48:04.410295Z",
     "start_time": "2020-05-29T09:48:04.259198Z"
    },
    "colab": {
     "base_uri": "https://localhost:8080/",
     "height": 204
    },
    "colab_type": "code",
    "id": "PWiBV0Gq1J8M",
    "outputId": "6dde1054-624c-4595-dd68-69b939e7e326"
   },
   "outputs": [
    {
     "data": {
      "text/html": [
       "<div>\n",
       "<style scoped>\n",
       "    .dataframe tbody tr th:only-of-type {\n",
       "        vertical-align: middle;\n",
       "    }\n",
       "\n",
       "    .dataframe tbody tr th {\n",
       "        vertical-align: top;\n",
       "    }\n",
       "\n",
       "    .dataframe thead th {\n",
       "        text-align: right;\n",
       "    }\n",
       "</style>\n",
       "<table border=\"1\" class=\"dataframe\">\n",
       "  <thead>\n",
       "    <tr style=\"text-align: right;\">\n",
       "      <th></th>\n",
       "      <th>Open</th>\n",
       "      <th>Promotion</th>\n",
       "      <th>StateHoliday</th>\n",
       "      <th>SchoolHoliday</th>\n",
       "    </tr>\n",
       "  </thead>\n",
       "  <tbody>\n",
       "    <tr>\n",
       "      <th>43275</th>\n",
       "      <td>0</td>\n",
       "      <td>0</td>\n",
       "      <td>1</td>\n",
       "      <td>1</td>\n",
       "    </tr>\n",
       "    <tr>\n",
       "      <th>43224</th>\n",
       "      <td>1</td>\n",
       "      <td>0</td>\n",
       "      <td>0</td>\n",
       "      <td>1</td>\n",
       "    </tr>\n",
       "    <tr>\n",
       "      <th>43173</th>\n",
       "      <td>1</td>\n",
       "      <td>0</td>\n",
       "      <td>0</td>\n",
       "      <td>1</td>\n",
       "    </tr>\n",
       "    <tr>\n",
       "      <th>43122</th>\n",
       "      <td>1</td>\n",
       "      <td>0</td>\n",
       "      <td>0</td>\n",
       "      <td>1</td>\n",
       "    </tr>\n",
       "    <tr>\n",
       "      <th>43071</th>\n",
       "      <td>1</td>\n",
       "      <td>0</td>\n",
       "      <td>0</td>\n",
       "      <td>0</td>\n",
       "    </tr>\n",
       "  </tbody>\n",
       "</table>\n",
       "</div>"
      ],
      "text/plain": [
       "       Open  Promotion StateHoliday  SchoolHoliday\n",
       "43275     0          0            1              1\n",
       "43224     1          0            0              1\n",
       "43173     1          0            0              1\n",
       "43122     1          0            0              1\n",
       "43071     1          0            0              0"
      ]
     },
     "execution_count": 67,
     "metadata": {},
     "output_type": "execute_result"
    }
   ],
   "source": [
    "## State variable has numeric character which has to be convered\n",
    "ex_train[\"StateHoliday\"].loc[ex_train[\"StateHoliday\"] == \"0\"] = 0\n",
    "ex_train[\"StateHoliday\"].loc[ex_train[\"StateHoliday\"] == \"a\"] = 1\n",
    "ex_train[\"StateHoliday\"].loc[ex_train[\"StateHoliday\"] == \"b\"] = 2\n",
    "ex_train[\"StateHoliday\"].loc[ex_train[\"StateHoliday\"] == \"c\"] = 3\n",
    "ex_train.head()"
   ]
  },
  {
   "cell_type": "code",
   "execution_count": 68,
   "id": "5e131d71",
   "metadata": {
    "ExecuteTime": {
     "end_time": "2020-05-29T09:48:04.513549Z",
     "start_time": "2020-05-29T09:48:04.412737Z"
    },
    "scrolled": true
   },
   "outputs": [
    {
     "name": "stdout",
     "output_type": "stream",
     "text": [
      "<class 'pandas.core.frame.DataFrame'>\n",
      "Int64Index: 730 entries, 43275 to 7752\n",
      "Data columns (total 4 columns):\n",
      " #   Column         Non-Null Count  Dtype \n",
      "---  ------         --------------  ----- \n",
      " 0   Open           730 non-null    int64 \n",
      " 1   Promotion      730 non-null    int64 \n",
      " 2   StateHoliday   730 non-null    object\n",
      " 3   SchoolHoliday  730 non-null    int64 \n",
      "dtypes: int64(3), object(1)\n",
      "memory usage: 28.5+ KB\n"
     ]
    }
   ],
   "source": [
    "ex_train.info()"
   ]
  },
  {
   "cell_type": "code",
   "execution_count": 69,
   "id": "074a444d",
   "metadata": {
    "ExecuteTime": {
     "end_time": "2020-05-29T09:48:04.642351Z",
     "start_time": "2020-05-29T09:48:04.517206Z"
    }
   },
   "outputs": [
    {
     "name": "stdout",
     "output_type": "stream",
     "text": [
      "<class 'pandas.core.frame.DataFrame'>\n",
      "Int64Index: 730 entries, 43275 to 7752\n",
      "Data columns (total 4 columns):\n",
      " #   Column         Non-Null Count  Dtype\n",
      "---  ------         --------------  -----\n",
      " 0   Open           730 non-null    int64\n",
      " 1   Promotion      730 non-null    int64\n",
      " 2   StateHoliday   730 non-null    int64\n",
      " 3   SchoolHoliday  730 non-null    int64\n",
      "dtypes: int64(4)\n",
      "memory usage: 28.5 KB\n"
     ]
    }
   ],
   "source": [
    "ex_train['StateHoliday'] = ex_train['StateHoliday'].astype('int64')\n",
    "ex_train.info()"
   ]
  },
  {
   "cell_type": "code",
   "execution_count": 70,
   "id": "a4529351",
   "metadata": {
    "ExecuteTime": {
     "end_time": "2020-05-29T09:48:04.793427Z",
     "start_time": "2020-05-29T09:48:04.644346Z"
    },
    "colab": {
     "base_uri": "https://localhost:8080/",
     "height": 204
    },
    "colab_type": "code",
    "id": "uO-mAAQy1J8T",
    "outputId": "97585e6a-64a5-4a99-a7cd-456855bc86c3"
   },
   "outputs": [
    {
     "data": {
      "text/html": [
       "<div>\n",
       "<style scoped>\n",
       "    .dataframe tbody tr th:only-of-type {\n",
       "        vertical-align: middle;\n",
       "    }\n",
       "\n",
       "    .dataframe tbody tr th {\n",
       "        vertical-align: top;\n",
       "    }\n",
       "\n",
       "    .dataframe thead th {\n",
       "        text-align: right;\n",
       "    }\n",
       "</style>\n",
       "<table border=\"1\" class=\"dataframe\">\n",
       "  <thead>\n",
       "    <tr style=\"text-align: right;\">\n",
       "      <th></th>\n",
       "      <th>Open</th>\n",
       "      <th>Promotion</th>\n",
       "      <th>StateHoliday</th>\n",
       "      <th>SchoolHoliday</th>\n",
       "    </tr>\n",
       "  </thead>\n",
       "  <tbody>\n",
       "    <tr>\n",
       "      <th>7701</th>\n",
       "      <td>0</td>\n",
       "      <td>0</td>\n",
       "      <td>1</td>\n",
       "      <td>1</td>\n",
       "    </tr>\n",
       "    <tr>\n",
       "      <th>7650</th>\n",
       "      <td>1</td>\n",
       "      <td>0</td>\n",
       "      <td>0</td>\n",
       "      <td>1</td>\n",
       "    </tr>\n",
       "    <tr>\n",
       "      <th>7599</th>\n",
       "      <td>1</td>\n",
       "      <td>0</td>\n",
       "      <td>0</td>\n",
       "      <td>0</td>\n",
       "    </tr>\n",
       "    <tr>\n",
       "      <th>7548</th>\n",
       "      <td>0</td>\n",
       "      <td>0</td>\n",
       "      <td>0</td>\n",
       "      <td>0</td>\n",
       "    </tr>\n",
       "    <tr>\n",
       "      <th>7497</th>\n",
       "      <td>1</td>\n",
       "      <td>1</td>\n",
       "      <td>0</td>\n",
       "      <td>1</td>\n",
       "    </tr>\n",
       "  </tbody>\n",
       "</table>\n",
       "</div>"
      ],
      "text/plain": [
       "      Open  Promotion StateHoliday  SchoolHoliday\n",
       "7701     0          0            1              1\n",
       "7650     1          0            0              1\n",
       "7599     1          0            0              0\n",
       "7548     0          0            0              0\n",
       "7497     1          1            0              1"
      ]
     },
     "execution_count": 70,
     "metadata": {},
     "output_type": "execute_result"
    }
   ],
   "source": [
    "## State variable has numeric character which has to be converted\n",
    "ex_test[\"StateHoliday\"].loc[ex_test[\"StateHoliday\"] == \"0\"] = 0\n",
    "ex_test[\"StateHoliday\"].loc[ex_test[\"StateHoliday\"] == \"a\"] = 1\n",
    "ex_test[\"StateHoliday\"].loc[ex_test[\"StateHoliday\"] == \"b\"] = 2\n",
    "ex_test[\"StateHoliday\"].loc[ex_test[\"StateHoliday\"] == \"c\"] = 3\n",
    "ex_test.head()"
   ]
  },
  {
   "cell_type": "code",
   "execution_count": 71,
   "id": "2ef683ff",
   "metadata": {
    "ExecuteTime": {
     "end_time": "2020-05-29T09:48:04.926948Z",
     "start_time": "2020-05-29T09:48:04.798326Z"
    }
   },
   "outputs": [
    {
     "name": "stdout",
     "output_type": "stream",
     "text": [
      "<class 'pandas.core.frame.DataFrame'>\n",
      "Int64Index: 152 entries, 7701 to 0\n",
      "Data columns (total 4 columns):\n",
      " #   Column         Non-Null Count  Dtype \n",
      "---  ------         --------------  ----- \n",
      " 0   Open           152 non-null    int64 \n",
      " 1   Promotion      152 non-null    int64 \n",
      " 2   StateHoliday   152 non-null    object\n",
      " 3   SchoolHoliday  152 non-null    int64 \n",
      "dtypes: int64(3), object(1)\n",
      "memory usage: 5.9+ KB\n"
     ]
    }
   ],
   "source": [
    "ex_test.info()"
   ]
  },
  {
   "cell_type": "code",
   "execution_count": 72,
   "id": "f2ac57d2",
   "metadata": {
    "ExecuteTime": {
     "end_time": "2020-05-29T09:48:05.054393Z",
     "start_time": "2020-05-29T09:48:04.930106Z"
    },
    "scrolled": true
   },
   "outputs": [
    {
     "name": "stdout",
     "output_type": "stream",
     "text": [
      "<class 'pandas.core.frame.DataFrame'>\n",
      "Int64Index: 152 entries, 7701 to 0\n",
      "Data columns (total 4 columns):\n",
      " #   Column         Non-Null Count  Dtype\n",
      "---  ------         --------------  -----\n",
      " 0   Open           152 non-null    int64\n",
      " 1   Promotion      152 non-null    int64\n",
      " 2   StateHoliday   152 non-null    int64\n",
      " 3   SchoolHoliday  152 non-null    int64\n",
      "dtypes: int64(4)\n",
      "memory usage: 5.9 KB\n"
     ]
    }
   ],
   "source": [
    "ex_test['StateHoliday'] = ex_test['StateHoliday'].astype('int64')\n",
    "ex_test.info()"
   ]
  },
  {
   "cell_type": "code",
   "execution_count": 73,
   "id": "085a4943",
   "metadata": {
    "scrolled": true
   },
   "outputs": [
    {
     "data": {
      "text/html": [
       "<div>\n",
       "<style scoped>\n",
       "    .dataframe tbody tr th:only-of-type {\n",
       "        vertical-align: middle;\n",
       "    }\n",
       "\n",
       "    .dataframe tbody tr th {\n",
       "        vertical-align: top;\n",
       "    }\n",
       "\n",
       "    .dataframe thead th {\n",
       "        text-align: right;\n",
       "    }\n",
       "</style>\n",
       "<table border=\"1\" class=\"dataframe\">\n",
       "  <thead>\n",
       "    <tr style=\"text-align: right;\">\n",
       "      <th></th>\n",
       "      <th>param</th>\n",
       "      <th>seasonal</th>\n",
       "      <th>AIC</th>\n",
       "    </tr>\n",
       "  </thead>\n",
       "  <tbody>\n",
       "  </tbody>\n",
       "</table>\n",
       "</div>"
      ],
      "text/plain": [
       "Empty DataFrame\n",
       "Columns: [param, seasonal, AIC]\n",
       "Index: []"
      ]
     },
     "execution_count": 73,
     "metadata": {},
     "output_type": "execute_result"
    }
   ],
   "source": [
    "SARIMAX_AIC = pd.DataFrame(columns = ['param', 'seasonal', 'AIC'])\n",
    "SARIMAX_AIC"
   ]
  },
  {
   "cell_type": "code",
   "execution_count": 74,
   "id": "2738bb13",
   "metadata": {},
   "outputs": [
    {
     "name": "stdout",
     "output_type": "stream",
     "text": [
      "SARIMA(0, 0, 0)(0, 0, 0, 7) - AIC:8449.698132723937\n",
      "SARIMA(0, 0, 0)(0, 0, 1, 7) - AIC:8279.92623112319\n",
      "SARIMA(0, 0, 0)(0, 0, 2, 7) - AIC:8108.890184928201\n",
      "SARIMA(0, 0, 0)(1, 0, 0, 7) - AIC:8211.177195628143\n",
      "SARIMA(0, 0, 0)(1, 0, 1, 7) - AIC:7981.852581366047\n",
      "SARIMA(0, 0, 0)(1, 0, 2, 7) - AIC:7910.411106459431\n",
      "SARIMA(0, 0, 0)(2, 0, 0, 7) - AIC:8009.10068272503\n",
      "SARIMA(0, 0, 0)(2, 0, 1, 7) - AIC:7919.610165578903\n",
      "SARIMA(0, 0, 0)(2, 0, 2, 7) - AIC:7892.63837349069\n",
      "SARIMA(0, 0, 1)(0, 0, 0, 7) - AIC:8359.036911486808\n",
      "SARIMA(0, 0, 1)(0, 0, 1, 7) - AIC:8198.543276381248\n",
      "SARIMA(0, 0, 1)(0, 0, 2, 7) - AIC:8043.613105687139\n",
      "SARIMA(0, 0, 1)(1, 0, 0, 7) - AIC:8157.24399564192\n",
      "SARIMA(0, 0, 1)(1, 0, 1, 7) - AIC:7940.494787734141\n",
      "SARIMA(0, 0, 1)(1, 0, 2, 7) - AIC:7865.510412538352\n",
      "SARIMA(0, 0, 1)(2, 0, 0, 7) - AIC:7974.072465671323\n",
      "SARIMA(0, 0, 1)(2, 0, 1, 7) - AIC:7885.559091996445\n",
      "SARIMA(0, 0, 1)(2, 0, 2, 7) - AIC:7859.525423644831\n",
      "SARIMA(0, 0, 2)(0, 0, 0, 7) - AIC:8317.250422793628\n",
      "SARIMA(0, 0, 2)(0, 0, 1, 7) - AIC:8165.550344592128\n",
      "SARIMA(0, 0, 2)(0, 0, 2, 7) - AIC:8012.487105912812\n",
      "SARIMA(0, 0, 2)(1, 0, 0, 7) - AIC:8142.266596945266\n",
      "SARIMA(0, 0, 2)(1, 0, 1, 7) - AIC:7915.369379914227\n",
      "SARIMA(0, 0, 2)(1, 0, 2, 7) - AIC:7834.9689042011305\n",
      "SARIMA(0, 0, 2)(2, 0, 0, 7) - AIC:7956.210558570148\n",
      "SARIMA(0, 0, 2)(2, 0, 1, 7) - AIC:7864.694753917554\n",
      "SARIMA(0, 0, 2)(2, 0, 2, 7) - AIC:7827.944293328981\n",
      "SARIMA(1, 0, 0)(0, 0, 0, 7) - AIC:8328.588510049443\n",
      "SARIMA(1, 0, 0)(0, 0, 1, 7) - AIC:8182.847783600523\n",
      "SARIMA(1, 0, 0)(0, 0, 2, 7) - AIC:8029.9877025184105\n",
      "SARIMA(1, 0, 0)(1, 0, 0, 7) - AIC:8124.500442328632\n",
      "SARIMA(1, 0, 0)(1, 0, 1, 7) - AIC:7934.362717803786\n",
      "SARIMA(1, 0, 0)(1, 0, 2, 7) - AIC:7860.8619573135165\n",
      "SARIMA(1, 0, 0)(2, 0, 0, 7) - AIC:7937.53747382879\n",
      "SARIMA(1, 0, 0)(2, 0, 1, 7) - AIC:7859.156964353593\n",
      "SARIMA(1, 0, 0)(2, 0, 2, 7) - AIC:7850.6626692740065\n",
      "SARIMA(1, 0, 1)(0, 0, 0, 7) - AIC:8242.68477363151\n",
      "SARIMA(1, 0, 1)(0, 0, 1, 7) - AIC:8133.835316219567\n",
      "SARIMA(1, 0, 1)(0, 0, 2, 7) - AIC:7984.961258234209\n",
      "SARIMA(1, 0, 1)(1, 0, 0, 7) - AIC:8100.865139300964\n",
      "SARIMA(1, 0, 1)(1, 0, 1, 7) - AIC:7888.4082154781245\n",
      "SARIMA(1, 0, 1)(1, 0, 2, 7) - AIC:7807.872095789089\n",
      "SARIMA(1, 0, 1)(2, 0, 0, 7) - AIC:7908.4522119988205\n",
      "SARIMA(1, 0, 1)(2, 0, 1, 7) - AIC:7816.51999176859\n",
      "SARIMA(1, 0, 1)(2, 0, 2, 7) - AIC:7808.556355770597\n",
      "SARIMA(1, 0, 2)(0, 0, 0, 7) - AIC:8213.846189183196\n",
      "SARIMA(1, 0, 2)(0, 0, 1, 7) - AIC:8104.8874962264\n",
      "SARIMA(1, 0, 2)(0, 0, 2, 7) - AIC:7975.95304117098\n",
      "SARIMA(1, 0, 2)(1, 0, 0, 7) - AIC:8102.777196664851\n",
      "SARIMA(1, 0, 2)(1, 0, 1, 7) - AIC:7884.240076125824\n",
      "SARIMA(1, 0, 2)(1, 0, 2, 7) - AIC:7794.894824616853\n",
      "SARIMA(1, 0, 2)(2, 0, 0, 7) - AIC:7907.25796659642\n",
      "SARIMA(1, 0, 2)(2, 0, 1, 7) - AIC:7814.516447114918\n",
      "SARIMA(1, 0, 2)(2, 0, 2, 7) - AIC:7793.802896167337\n",
      "SARIMA(2, 0, 0)(0, 0, 0, 7) - AIC:8291.64721575573\n",
      "SARIMA(2, 0, 0)(0, 0, 1, 7) - AIC:8165.60527527964\n",
      "SARIMA(2, 0, 0)(0, 0, 2, 7) - AIC:8009.93721649621\n",
      "SARIMA(2, 0, 0)(1, 0, 0, 7) - AIC:8097.496500312177\n",
      "SARIMA(2, 0, 0)(1, 0, 1, 7) - AIC:7899.05884908613\n",
      "SARIMA(2, 0, 0)(1, 0, 2, 7) - AIC:7833.2222113120715\n",
      "SARIMA(2, 0, 0)(2, 0, 0, 7) - AIC:7905.172589236214\n",
      "SARIMA(2, 0, 0)(2, 0, 1, 7) - AIC:7818.740859369029\n",
      "SARIMA(2, 0, 0)(2, 0, 2, 7) - AIC:7815.023159182267\n",
      "SARIMA(2, 0, 1)(0, 0, 0, 7) - AIC:8226.028613877943\n",
      "SARIMA(2, 0, 1)(0, 0, 1, 7) - AIC:8117.696455275724\n",
      "SARIMA(2, 0, 1)(0, 0, 2, 7) - AIC:7975.4843508659205\n",
      "SARIMA(2, 0, 1)(1, 0, 0, 7) - AIC:8091.355488137515\n",
      "SARIMA(2, 0, 1)(1, 0, 1, 7) - AIC:7889.361094652319\n",
      "SARIMA(2, 0, 1)(1, 0, 2, 7) - AIC:7814.647650395288\n",
      "SARIMA(2, 0, 1)(2, 0, 0, 7) - AIC:7896.91210352999\n",
      "SARIMA(2, 0, 1)(2, 0, 1, 7) - AIC:7810.635208309508\n",
      "SARIMA(2, 0, 1)(2, 0, 2, 7) - AIC:7805.172648063643\n",
      "SARIMA(2, 0, 2)(0, 0, 0, 7) - AIC:8222.87846214026\n",
      "SARIMA(2, 0, 2)(0, 0, 1, 7) - AIC:8115.838764902155\n",
      "SARIMA(2, 0, 2)(0, 0, 2, 7) - AIC:7981.334084374179\n",
      "SARIMA(2, 0, 2)(1, 0, 0, 7) - AIC:8097.208915235818\n",
      "SARIMA(2, 0, 2)(1, 0, 1, 7) - AIC:7902.568525692068\n",
      "SARIMA(2, 0, 2)(1, 0, 2, 7) - AIC:7811.823230493987\n",
      "SARIMA(2, 0, 2)(2, 0, 0, 7) - AIC:7909.549935034245\n",
      "SARIMA(2, 0, 2)(2, 0, 1, 7) - AIC:7861.996906267454\n",
      "SARIMA(2, 0, 2)(2, 0, 2, 7) - AIC:7811.067482332368\n"
     ]
    }
   ],
   "source": [
    "for param in pdq:\n",
    "    for param_seasonal in model_pdq:\n",
    "        mod = sm.tsa.statespace.SARIMAX(train['Customers'], exog = ex_train,\n",
    "                                       order = param,\n",
    "                                       seasonal_order = param_seasonal,\n",
    "                                       enforce_stationarity = False,\n",
    "                                       enforce_invertibility = False)\n",
    "        results_SARIMAX = mod.fit()\n",
    "        print('SARIMA{}{} - AIC:{}'.format(param, param_seasonal, results_SARIMAX.aic))\n",
    "        SARIMAX_AIC = SARIMAX_AIC.append({'param':param, 'seasonal':param_seasonal,\n",
    "                                         'AIC':results_SARIMAX.aic}, ignore_index = True)"
   ]
  },
  {
   "cell_type": "code",
   "execution_count": 75,
   "id": "bd590987",
   "metadata": {},
   "outputs": [
    {
     "data": {
      "text/html": [
       "<div>\n",
       "<style scoped>\n",
       "    .dataframe tbody tr th:only-of-type {\n",
       "        vertical-align: middle;\n",
       "    }\n",
       "\n",
       "    .dataframe tbody tr th {\n",
       "        vertical-align: top;\n",
       "    }\n",
       "\n",
       "    .dataframe thead th {\n",
       "        text-align: right;\n",
       "    }\n",
       "</style>\n",
       "<table border=\"1\" class=\"dataframe\">\n",
       "  <thead>\n",
       "    <tr style=\"text-align: right;\">\n",
       "      <th></th>\n",
       "      <th>param</th>\n",
       "      <th>seasonal</th>\n",
       "      <th>AIC</th>\n",
       "    </tr>\n",
       "  </thead>\n",
       "  <tbody>\n",
       "    <tr>\n",
       "      <th>53</th>\n",
       "      <td>(1, 0, 2)</td>\n",
       "      <td>(2, 0, 2, 7)</td>\n",
       "      <td>7793.802896</td>\n",
       "    </tr>\n",
       "    <tr>\n",
       "      <th>50</th>\n",
       "      <td>(1, 0, 2)</td>\n",
       "      <td>(1, 0, 2, 7)</td>\n",
       "      <td>7794.894825</td>\n",
       "    </tr>\n",
       "    <tr>\n",
       "      <th>71</th>\n",
       "      <td>(2, 0, 1)</td>\n",
       "      <td>(2, 0, 2, 7)</td>\n",
       "      <td>7805.172648</td>\n",
       "    </tr>\n",
       "    <tr>\n",
       "      <th>41</th>\n",
       "      <td>(1, 0, 1)</td>\n",
       "      <td>(1, 0, 2, 7)</td>\n",
       "      <td>7807.872096</td>\n",
       "    </tr>\n",
       "    <tr>\n",
       "      <th>44</th>\n",
       "      <td>(1, 0, 1)</td>\n",
       "      <td>(2, 0, 2, 7)</td>\n",
       "      <td>7808.556356</td>\n",
       "    </tr>\n",
       "  </tbody>\n",
       "</table>\n",
       "</div>"
      ],
      "text/plain": [
       "        param      seasonal          AIC\n",
       "53  (1, 0, 2)  (2, 0, 2, 7)  7793.802896\n",
       "50  (1, 0, 2)  (1, 0, 2, 7)  7794.894825\n",
       "71  (2, 0, 1)  (2, 0, 2, 7)  7805.172648\n",
       "41  (1, 0, 1)  (1, 0, 2, 7)  7807.872096\n",
       "44  (1, 0, 1)  (2, 0, 2, 7)  7808.556356"
      ]
     },
     "execution_count": 75,
     "metadata": {},
     "output_type": "execute_result"
    }
   ],
   "source": [
    "SARIMAX_AIC.sort_values(by = ['AIC']).head()"
   ]
  },
  {
   "cell_type": "code",
   "execution_count": 76,
   "id": "3d0f6c6a",
   "metadata": {},
   "outputs": [
    {
     "name": "stdout",
     "output_type": "stream",
     "text": [
      "                                     SARIMAX Results                                     \n",
      "=========================================================================================\n",
      "Dep. Variable:                         Customers   No. Observations:                  730\n",
      "Model:             SARIMAX(1, 0, 2)x(2, 0, 2, 7)   Log Likelihood               -3884.901\n",
      "Date:                           Mon, 20 May 2024   AIC                           7793.803\n",
      "Time:                                   16:36:34   BIC                           7848.637\n",
      "Sample:                                        0   HQIC                          7814.981\n",
      "                                           - 730                                         \n",
      "Covariance Type:                             opg                                         \n",
      "=================================================================================\n",
      "                    coef    std err          z      P>|z|      [0.025      0.975]\n",
      "---------------------------------------------------------------------------------\n",
      "Open            518.1317     22.448     23.082      0.000     474.135     562.128\n",
      "Promotion        94.1516      6.962     13.524      0.000      80.506     107.797\n",
      "StateHoliday    -18.6204     13.278     -1.402      0.161     -44.645       7.404\n",
      "SchoolHoliday    13.3680      6.368      2.099      0.036       0.887      25.849\n",
      "ar.L1             0.7971      0.052     15.239      0.000       0.695       0.900\n",
      "ma.L1            -0.6556      0.064    -10.308      0.000      -0.780      -0.531\n",
      "ma.L2             0.1157      0.032      3.569      0.000       0.052       0.179\n",
      "ar.S.L7           0.2514      0.100      2.512      0.012       0.055       0.448\n",
      "ar.S.L14          0.7373      0.099      7.424      0.000       0.543       0.932\n",
      "ma.S.L7          -0.2418      0.118     -2.046      0.041      -0.474      -0.010\n",
      "ma.S.L14         -0.5364      0.107     -4.992      0.000      -0.747      -0.326\n",
      "sigma2         3116.3399    109.208     28.536      0.000    2902.297    3330.383\n",
      "===================================================================================\n",
      "Ljung-Box (L1) (Q):                   0.01   Jarque-Bera (JB):               962.46\n",
      "Prob(Q):                              0.92   Prob(JB):                         0.00\n",
      "Heteroskedasticity (H):               2.11   Skew:                             0.92\n",
      "Prob(H) (two-sided):                  0.00   Kurtosis:                         8.39\n",
      "===================================================================================\n",
      "\n",
      "Warnings:\n",
      "[1] Covariance matrix calculated using the outer product of gradients (complex-step).\n"
     ]
    }
   ],
   "source": [
    "best_model = sm.tsa.statespace.SARIMAX(train['Customers'], exog = ex_train,\n",
    "                    order = (1, 0, 2),\n",
    "                    seasonal_order = (2, 0, 2, 7),\n",
    "                    enforce_stationarity = False,\n",
    "                    enforce_invertibility = False)\n",
    "results = best_model.fit()\n",
    "print(results.summary())"
   ]
  },
  {
   "cell_type": "markdown",
   "id": "efe880a0",
   "metadata": {},
   "source": [
    "`We can see here that the most significant predictors are 'Open' with a Z-score of `23.082`, 'ar.L1' (previous days value) with a z-score of `15.239`, 'Promotion' with a z-score of `13.524`, 'ma.L1' (error of previous day) with a z-score of `-10.308` and so on.`"
   ]
  },
  {
   "cell_type": "code",
   "execution_count": 77,
   "id": "1bc20107",
   "metadata": {},
   "outputs": [
    {
     "data": {
      "text/plain": [
       "730     32.706095\n",
       "731    588.282118\n",
       "732    623.660771\n",
       "733     -8.877755\n",
       "734    811.759863\n",
       "          ...    \n",
       "877    547.428238\n",
       "878    568.258811\n",
       "879    601.698101\n",
       "880     -1.187429\n",
       "881    762.640825\n",
       "Name: predicted_mean, Length: 152, dtype: float64"
      ]
     },
     "execution_count": 77,
     "metadata": {},
     "output_type": "execute_result"
    }
   ],
   "source": [
    "pred = results.get_forecast(steps = 152, exog = ex_test)\n",
    "pred.predicted_mean"
   ]
  },
  {
   "cell_type": "code",
   "execution_count": 78,
   "id": "80a319ba",
   "metadata": {
    "scrolled": true
   },
   "outputs": [
    {
     "name": "stdout",
     "output_type": "stream",
     "text": [
      "60.835869935550654\n"
     ]
    }
   ],
   "source": [
    "rmse_SARIMAX = sqrt(mean_squared_error(test.Customers, pred.predicted_mean))\n",
    "print(rmse_SARIMAX)"
   ]
  },
  {
   "cell_type": "code",
   "execution_count": 79,
   "id": "1112bf1d",
   "metadata": {},
   "outputs": [],
   "source": [
    "temp_resultsDf = pd.DataFrame({'RMSE':[rmse_SARIMAX]},\n",
    "                             index=['SARIMAX(1,0,2)(2,0,2)7'])\n",
    "\n",
    "resultsDf = pd.concat([resultsDf, temp_resultsDf])"
   ]
  },
  {
   "cell_type": "code",
   "execution_count": 80,
   "id": "a146a7d6",
   "metadata": {},
   "outputs": [
    {
     "data": {
      "text/html": [
       "<div>\n",
       "<style scoped>\n",
       "    .dataframe tbody tr th:only-of-type {\n",
       "        vertical-align: middle;\n",
       "    }\n",
       "\n",
       "    .dataframe tbody tr th {\n",
       "        vertical-align: top;\n",
       "    }\n",
       "\n",
       "    .dataframe thead th {\n",
       "        text-align: right;\n",
       "    }\n",
       "</style>\n",
       "<table border=\"1\" class=\"dataframe\">\n",
       "  <thead>\n",
       "    <tr style=\"text-align: right;\">\n",
       "      <th></th>\n",
       "      <th>RMSE</th>\n",
       "    </tr>\n",
       "  </thead>\n",
       "  <tbody>\n",
       "    <tr>\n",
       "      <th>ARIMA(1,0,2)</th>\n",
       "      <td>271.658676</td>\n",
       "    </tr>\n",
       "    <tr>\n",
       "      <th>SARIMA(0,0,1)(2,0,2)7</th>\n",
       "      <td>149.548077</td>\n",
       "    </tr>\n",
       "    <tr>\n",
       "      <th>SARIMAX(1,0,2)(2,0,2)7</th>\n",
       "      <td>60.835870</td>\n",
       "    </tr>\n",
       "  </tbody>\n",
       "</table>\n",
       "</div>"
      ],
      "text/plain": [
       "                              RMSE\n",
       "ARIMA(1,0,2)            271.658676\n",
       "SARIMA(0,0,1)(2,0,2)7   149.548077\n",
       "SARIMAX(1,0,2)(2,0,2)7   60.835870"
      ]
     },
     "execution_count": 80,
     "metadata": {},
     "output_type": "execute_result"
    }
   ],
   "source": [
    "resultsDf"
   ]
  },
  {
   "cell_type": "markdown",
   "id": "aecd4ebd",
   "metadata": {},
   "source": [
    "The use of exogeneous variables has signigicantly helped in forecasting."
   ]
  },
  {
   "cell_type": "markdown",
   "id": "b58f97ec",
   "metadata": {},
   "source": [
    "<a id=\"eda\"><a>\n",
    "<table align=\"center\" width=100%>\n",
    "    <tr>\n",
    "        <td>\n",
    "            <div align=\"left\">\n",
    "                <font color=\"#21619\" size=3px>                   \n",
    "                    <b>  Let's use SARIMAX with exogenous variable whose coefficients are allowed to vary over time Time Varying Linear Model[TVLM] SARIMA(1, 0, 2)(2, 0, 2, 7)\n",
    "                    </b>\n",
    "                </font>\n",
    "            </div>\n",
    "        </td>\n",
    "    </tr>\n",
    "</table>"
   ]
  },
  {
   "cell_type": "code",
   "execution_count": 81,
   "id": "2b32a6c7",
   "metadata": {
    "scrolled": true
   },
   "outputs": [
    {
     "name": "stdout",
     "output_type": "stream",
     "text": [
      "                                     SARIMAX Results                                     \n",
      "=========================================================================================\n",
      "Dep. Variable:                         Customers   No. Observations:                  730\n",
      "Model:             SARIMAX(1, 0, 2)x(2, 0, 2, 7)   Log Likelihood               -3860.589\n",
      "Date:                           Mon, 20 May 2024   AIC                           7745.178\n",
      "Time:                                   16:36:44   BIC                           7799.945\n",
      "Sample:                                        0   HQIC                          7766.336\n",
      "                                           - 730                                         \n",
      "Covariance Type:                             opg                                         \n",
      "=====================================================================================\n",
      "                        coef    std err          z      P>|z|      [0.025      0.975]\n",
      "-------------------------------------------------------------------------------------\n",
      "ar.L1                 0.6475      0.134      4.847      0.000       0.386       0.909\n",
      "ma.L1                -0.4885      0.131     -3.715      0.000      -0.746      -0.231\n",
      "ma.L2                 0.0964      0.043      2.237      0.025       0.012       0.181\n",
      "ar.S.L7               0.2605      0.100      2.605      0.009       0.064       0.457\n",
      "ar.S.L14              0.7490      0.100      7.455      0.000       0.552       0.946\n",
      "ma.S.L7              -0.3523      0.112     -3.148      0.002      -0.572      -0.133\n",
      "ma.S.L14             -0.6210      0.117     -5.299      0.000      -0.851      -0.391\n",
      "var.Open             23.0348      7.663      3.006      0.003       8.015      38.054\n",
      "var.Promotion         7.0366      7.825      0.899      0.369      -8.300      22.373\n",
      "var.StateHoliday      8.6725     14.388      0.603      0.547     -19.527      36.872\n",
      "var.SchoolHoliday     2.5075      2.104      1.192      0.233      -1.616       6.631\n",
      "sigma2             2586.5529    100.136     25.830      0.000    2390.289    2782.817\n",
      "===================================================================================\n",
      "Ljung-Box (L1) (Q):                   0.81   Jarque-Bera (JB):               767.07\n",
      "Prob(Q):                              0.37   Prob(JB):                         0.00\n",
      "Heteroskedasticity (H):               1.99   Skew:                             0.38\n",
      "Prob(H) (two-sided):                  0.00   Kurtosis:                         8.04\n",
      "===================================================================================\n",
      "\n",
      "Warnings:\n",
      "[1] Covariance matrix calculated using the outer product of gradients (complex-step).\n"
     ]
    }
   ],
   "source": [
    "mod = sm.tsa.statespace.SARIMAX(train['Customers'], exog = ex_train, time_varying_regression = True,\n",
    "                               mle_regression = False,\n",
    "                               order = (1, 0, 2),\n",
    "                               seasonal_order = (2, 0, 2, 7),\n",
    "                               enforce_stationarity = False,\n",
    "                               enforce_invertibility = False)\n",
    "results = mod.fit()\n",
    "print(results.summary())"
   ]
  },
  {
   "cell_type": "code",
   "execution_count": 82,
   "id": "905487a0",
   "metadata": {
    "ExecuteTime": {
     "end_time": "2020-05-29T09:59:29.419674Z",
     "start_time": "2020-05-29T09:59:29.392136Z"
    },
    "colab": {
     "base_uri": "https://localhost:8080/",
     "height": 221
    },
    "colab_type": "code",
    "id": "ab7_qyEV1J8v",
    "outputId": "2d9fa3f4-bb78-4b5c-a908-4fcabbe9ba81",
    "scrolled": false
   },
   "outputs": [
    {
     "data": {
      "text/plain": [
       "730    -78.608978\n",
       "731    623.220625\n",
       "732    640.950426\n",
       "733    -12.012865\n",
       "734    865.464376\n",
       "          ...    \n",
       "877    564.478543\n",
       "878    604.186122\n",
       "879    635.579688\n",
       "880     -0.344569\n",
       "881    822.206537\n",
       "Name: predicted_mean, Length: 152, dtype: float64"
      ]
     },
     "execution_count": 82,
     "metadata": {},
     "output_type": "execute_result"
    }
   ],
   "source": [
    "pred = results.get_forecast(steps=152,exog=ex_test)\n",
    "pred.predicted_mean"
   ]
  },
  {
   "cell_type": "code",
   "execution_count": 83,
   "id": "297d83ca",
   "metadata": {},
   "outputs": [
    {
     "name": "stdout",
     "output_type": "stream",
     "text": [
      "56.83197170891797\n"
     ]
    }
   ],
   "source": [
    "rmse_SARIMAX_timevarying = sqrt(mean_squared_error(test.Customers, pred.predicted_mean))\n",
    "print(rmse_SARIMAX_timevarying)"
   ]
  },
  {
   "cell_type": "code",
   "execution_count": 84,
   "id": "f42364c1",
   "metadata": {},
   "outputs": [
    {
     "data": {
      "text/html": [
       "<div>\n",
       "<style scoped>\n",
       "    .dataframe tbody tr th:only-of-type {\n",
       "        vertical-align: middle;\n",
       "    }\n",
       "\n",
       "    .dataframe tbody tr th {\n",
       "        vertical-align: top;\n",
       "    }\n",
       "\n",
       "    .dataframe thead th {\n",
       "        text-align: right;\n",
       "    }\n",
       "</style>\n",
       "<table border=\"1\" class=\"dataframe\">\n",
       "  <thead>\n",
       "    <tr style=\"text-align: right;\">\n",
       "      <th></th>\n",
       "      <th>RMSE</th>\n",
       "    </tr>\n",
       "  </thead>\n",
       "  <tbody>\n",
       "    <tr>\n",
       "      <th>ARIMA(1,0,2)</th>\n",
       "      <td>271.658676</td>\n",
       "    </tr>\n",
       "    <tr>\n",
       "      <th>SARIMA(0,0,1)(2,0,2)7</th>\n",
       "      <td>149.548077</td>\n",
       "    </tr>\n",
       "    <tr>\n",
       "      <th>SARIMAX(1,0,2)(2,0,2)7</th>\n",
       "      <td>60.835870</td>\n",
       "    </tr>\n",
       "    <tr>\n",
       "      <th>SARIMAX_tvlm(1,0,2)(2,0,2)7</th>\n",
       "      <td>56.831972</td>\n",
       "    </tr>\n",
       "  </tbody>\n",
       "</table>\n",
       "</div>"
      ],
      "text/plain": [
       "                                   RMSE\n",
       "ARIMA(1,0,2)                 271.658676\n",
       "SARIMA(0,0,1)(2,0,2)7        149.548077\n",
       "SARIMAX(1,0,2)(2,0,2)7        60.835870\n",
       "SARIMAX_tvlm(1,0,2)(2,0,2)7   56.831972"
      ]
     },
     "execution_count": 84,
     "metadata": {},
     "output_type": "execute_result"
    }
   ],
   "source": [
    "temp_resultsDf = pd.DataFrame({'RMSE':[rmse_SARIMAX_timevarying]},\n",
    "                             index = ['SARIMAX_tvlm(1,0,2)(2,0,2)7'])\n",
    "resultsDf = pd.concat([resultsDf, temp_resultsDf])\n",
    "resultsDf"
   ]
  },
  {
   "cell_type": "markdown",
   "id": "ecd0e289",
   "metadata": {},
   "source": [
    "<a id=\"eda\"><a>\n",
    "<table align=\"center\" width=100%>\n",
    "    <tr>\n",
    "        <td>\n",
    "            <div align=\"left\">\n",
    "                <font color=\"#21619\" size=3px>                   \n",
    "                    <b>  To get the real forecast for 7 days, we will rerun the model on the complete dataset for Store_1044\n",
    "                    </b>\n",
    "                </font>\n",
    "            </div>\n",
    "        </td>\n",
    "    </tr>\n",
    "</table>"
   ]
  },
  {
   "cell_type": "code",
   "execution_count": 85,
   "id": "8fdb299d",
   "metadata": {
    "ExecuteTime": {
     "end_time": "2020-05-29T09:59:30.033935Z",
     "start_time": "2020-05-29T09:59:29.868339Z"
    },
    "colab": {},
    "colab_type": "code",
    "id": "UaymcMF-1J8-"
   },
   "outputs": [],
   "source": [
    "ex_1044=Store_1044[['Open','Promotion','StateHoliday','SchoolHoliday']]"
   ]
  },
  {
   "cell_type": "code",
   "execution_count": 86,
   "id": "8174a626",
   "metadata": {
    "ExecuteTime": {
     "end_time": "2020-05-29T09:59:30.202921Z",
     "start_time": "2020-05-29T09:59:30.034978Z"
    },
    "colab": {
     "base_uri": "https://localhost:8080/",
     "height": 204
    },
    "colab_type": "code",
    "id": "pvxf4Uj11J9D",
    "outputId": "d8ac11a7-f88d-4d94-c83c-68c706746bff"
   },
   "outputs": [
    {
     "data": {
      "text/html": [
       "<div>\n",
       "<style scoped>\n",
       "    .dataframe tbody tr th:only-of-type {\n",
       "        vertical-align: middle;\n",
       "    }\n",
       "\n",
       "    .dataframe tbody tr th {\n",
       "        vertical-align: top;\n",
       "    }\n",
       "\n",
       "    .dataframe thead th {\n",
       "        text-align: right;\n",
       "    }\n",
       "</style>\n",
       "<table border=\"1\" class=\"dataframe\">\n",
       "  <thead>\n",
       "    <tr style=\"text-align: right;\">\n",
       "      <th></th>\n",
       "      <th>Open</th>\n",
       "      <th>Promotion</th>\n",
       "      <th>StateHoliday</th>\n",
       "      <th>SchoolHoliday</th>\n",
       "    </tr>\n",
       "  </thead>\n",
       "  <tbody>\n",
       "    <tr>\n",
       "      <th>43275</th>\n",
       "      <td>0</td>\n",
       "      <td>0</td>\n",
       "      <td>1</td>\n",
       "      <td>1</td>\n",
       "    </tr>\n",
       "    <tr>\n",
       "      <th>43224</th>\n",
       "      <td>1</td>\n",
       "      <td>0</td>\n",
       "      <td>0</td>\n",
       "      <td>1</td>\n",
       "    </tr>\n",
       "    <tr>\n",
       "      <th>43173</th>\n",
       "      <td>1</td>\n",
       "      <td>0</td>\n",
       "      <td>0</td>\n",
       "      <td>1</td>\n",
       "    </tr>\n",
       "    <tr>\n",
       "      <th>43122</th>\n",
       "      <td>1</td>\n",
       "      <td>0</td>\n",
       "      <td>0</td>\n",
       "      <td>1</td>\n",
       "    </tr>\n",
       "    <tr>\n",
       "      <th>43071</th>\n",
       "      <td>1</td>\n",
       "      <td>0</td>\n",
       "      <td>0</td>\n",
       "      <td>0</td>\n",
       "    </tr>\n",
       "  </tbody>\n",
       "</table>\n",
       "</div>"
      ],
      "text/plain": [
       "       Open  Promotion StateHoliday  SchoolHoliday\n",
       "43275     0          0            1              1\n",
       "43224     1          0            0              1\n",
       "43173     1          0            0              1\n",
       "43122     1          0            0              1\n",
       "43071     1          0            0              0"
      ]
     },
     "execution_count": 86,
     "metadata": {},
     "output_type": "execute_result"
    }
   ],
   "source": [
    "## State variable has numeric character which has to be convered\n",
    "ex_1044[\"StateHoliday\"].loc[ex_1044[\"StateHoliday\"] == \"0\"] = 0\n",
    "ex_1044[\"StateHoliday\"].loc[ex_1044[\"StateHoliday\"] == \"a\"] = 1\n",
    "ex_1044[\"StateHoliday\"].loc[ex_1044[\"StateHoliday\"] == \"b\"] = 2\n",
    "ex_1044[\"StateHoliday\"].loc[ex_1044[\"StateHoliday\"] == \"c\"] = 3\n",
    "ex_1044.head()"
   ]
  },
  {
   "cell_type": "code",
   "execution_count": 87,
   "id": "31f20a19",
   "metadata": {
    "scrolled": true
   },
   "outputs": [
    {
     "data": {
      "text/html": [
       "<div>\n",
       "<style scoped>\n",
       "    .dataframe tbody tr th:only-of-type {\n",
       "        vertical-align: middle;\n",
       "    }\n",
       "\n",
       "    .dataframe tbody tr th {\n",
       "        vertical-align: top;\n",
       "    }\n",
       "\n",
       "    .dataframe thead th {\n",
       "        text-align: right;\n",
       "    }\n",
       "</style>\n",
       "<table border=\"1\" class=\"dataframe\">\n",
       "  <thead>\n",
       "    <tr style=\"text-align: right;\">\n",
       "      <th></th>\n",
       "      <th>Open</th>\n",
       "      <th>Promotion</th>\n",
       "      <th>StateHoliday</th>\n",
       "      <th>SchoolHoliday</th>\n",
       "    </tr>\n",
       "  </thead>\n",
       "  <tbody>\n",
       "    <tr>\n",
       "      <th>43275</th>\n",
       "      <td>0</td>\n",
       "      <td>0</td>\n",
       "      <td>1</td>\n",
       "      <td>1</td>\n",
       "    </tr>\n",
       "    <tr>\n",
       "      <th>43224</th>\n",
       "      <td>1</td>\n",
       "      <td>0</td>\n",
       "      <td>0</td>\n",
       "      <td>1</td>\n",
       "    </tr>\n",
       "    <tr>\n",
       "      <th>43173</th>\n",
       "      <td>1</td>\n",
       "      <td>0</td>\n",
       "      <td>0</td>\n",
       "      <td>1</td>\n",
       "    </tr>\n",
       "    <tr>\n",
       "      <th>43122</th>\n",
       "      <td>1</td>\n",
       "      <td>0</td>\n",
       "      <td>0</td>\n",
       "      <td>1</td>\n",
       "    </tr>\n",
       "    <tr>\n",
       "      <th>43071</th>\n",
       "      <td>1</td>\n",
       "      <td>0</td>\n",
       "      <td>0</td>\n",
       "      <td>0</td>\n",
       "    </tr>\n",
       "  </tbody>\n",
       "</table>\n",
       "</div>"
      ],
      "text/plain": [
       "       Open  Promotion StateHoliday  SchoolHoliday\n",
       "43275     0          0            1              1\n",
       "43224     1          0            0              1\n",
       "43173     1          0            0              1\n",
       "43122     1          0            0              1\n",
       "43071     1          0            0              0"
      ]
     },
     "execution_count": 87,
     "metadata": {},
     "output_type": "execute_result"
    }
   ],
   "source": [
    "ex_1044.head()"
   ]
  },
  {
   "cell_type": "code",
   "execution_count": 88,
   "id": "289d692d",
   "metadata": {},
   "outputs": [
    {
     "name": "stdout",
     "output_type": "stream",
     "text": [
      "<class 'pandas.core.frame.DataFrame'>\n",
      "Int64Index: 882 entries, 43275 to 0\n",
      "Data columns (total 4 columns):\n",
      " #   Column         Non-Null Count  Dtype\n",
      "---  ------         --------------  -----\n",
      " 0   Open           882 non-null    int64\n",
      " 1   Promotion      882 non-null    int64\n",
      " 2   StateHoliday   882 non-null    int64\n",
      " 3   SchoolHoliday  882 non-null    int64\n",
      "dtypes: int64(4)\n",
      "memory usage: 34.5 KB\n"
     ]
    }
   ],
   "source": [
    "ex_1044['StateHoliday'] = ex_1044['StateHoliday'].astype('int64')\n",
    "ex_1044.info()"
   ]
  },
  {
   "cell_type": "code",
   "execution_count": 89,
   "id": "226a9078",
   "metadata": {},
   "outputs": [
    {
     "name": "stdout",
     "output_type": "stream",
     "text": [
      "                                     SARIMAX Results                                     \n",
      "=========================================================================================\n",
      "Dep. Variable:                         Customers   No. Observations:                  882\n",
      "Model:             SARIMAX(1, 0, 2)x(2, 0, 2, 7)   Log Likelihood               -4712.517\n",
      "Date:                           Mon, 20 May 2024   AIC                           9449.033\n",
      "Time:                                   16:36:53   BIC                           9506.186\n",
      "Sample:                                        0   HQIC                          9470.907\n",
      "                                           - 882                                         \n",
      "Covariance Type:                             opg                                         \n",
      "=================================================================================\n",
      "                    coef    std err          z      P>|z|      [0.025      0.975]\n",
      "---------------------------------------------------------------------------------\n",
      "Open            532.4261     19.553     27.229      0.000     494.102     570.750\n",
      "Promotion        96.4043      5.879     16.397      0.000      84.881     107.927\n",
      "StateHoliday    -19.2928     12.069     -1.599      0.110     -42.947       4.362\n",
      "SchoolHoliday     9.5999      5.779      1.661      0.097      -1.726      20.926\n",
      "ar.L1             0.8190      0.045     18.197      0.000       0.731       0.907\n",
      "ma.L1            -0.7133      0.055    -12.986      0.000      -0.821      -0.606\n",
      "ma.L2             0.1278      0.028      4.517      0.000       0.072       0.183\n",
      "ar.S.L7           0.2371      0.088      2.685      0.007       0.064       0.410\n",
      "ar.S.L14          0.7464      0.088      8.517      0.000       0.575       0.918\n",
      "ma.S.L7          -0.2467      0.105     -2.354      0.019      -0.452      -0.041\n",
      "ma.S.L14         -0.5609      0.097     -5.791      0.000      -0.751      -0.371\n",
      "sigma2         3115.6490    104.106     29.928      0.000    2911.605    3319.693\n",
      "===================================================================================\n",
      "Ljung-Box (L1) (Q):                   0.05   Jarque-Bera (JB):               976.91\n",
      "Prob(Q):                              0.82   Prob(JB):                         0.00\n",
      "Heteroskedasticity (H):               1.90   Skew:                             0.92\n",
      "Prob(H) (two-sided):                  0.00   Kurtosis:                         7.87\n",
      "===================================================================================\n",
      "\n",
      "Warnings:\n",
      "[1] Covariance matrix calculated using the outer product of gradients (complex-step).\n"
     ]
    }
   ],
   "source": [
    "mod = sm.tsa.statespace.SARIMAX(Store_1044['Customers'], exog = ex_1044,\n",
    "                               order = (1, 0, 2),\n",
    "                               seasonal_order = (2, 0, 2, 7),\n",
    "                               enforce_stationarity = False,\n",
    "                               enforce_invertibility = False)\n",
    "results = mod.fit()\n",
    "print(results.summary())"
   ]
  },
  {
   "cell_type": "markdown",
   "id": "fde8c9aa",
   "metadata": {
    "colab": {},
    "colab_type": "code",
    "id": "iUpCUfdf1J-c"
   },
   "source": [
    "Now let's verify if the order as we got it using ACF and PACF gives you a better model in terms of performance.\n",
    "So we will build two models with order=(0,0,0),seasonal_order=(1, 1,1, 7) and order=(0,0,1),seasonal_order=(1, 1,1, 7) for both \n",
    "SARIMAX with and without exogeneous variables\n",
    "seasonality value for P and Q is assumed to be one because as per ACF and PACF plot seasonality was visible for every 7th period. \n",
    "In our SARIMAX loop in the earlier part of code we have assumed d to be 0. With this we will verify if first order differentiation makes a difference \n",
    "in terms of value of p and q both for the order and seasonal order."
   ]
  },
  {
   "cell_type": "markdown",
   "id": "15c6ba6c",
   "metadata": {},
   "source": [
    "<a id=\"interpretation\"><a>\n",
    "<table align=\"center\" width=100%>\n",
    "    <tr>\n",
    "        <td>\n",
    "            <div align=\"left\">\n",
    "                <font color=\"#21619\" size=5px>                   \n",
    "                    <b>  Interpretation\n",
    "                    </b>\n",
    "                </font>\n",
    "            </div>\n",
    "        </td>\n",
    "    </tr>\n",
    "</table>"
   ]
  },
  {
   "cell_type": "markdown",
   "id": "ea411dcf",
   "metadata": {},
   "source": [
    "**Overall fit of the model:**   <br>"
   ]
  },
  {
   "cell_type": "markdown",
   "id": "32bc054c",
   "metadata": {},
   "source": [
    "The primary objective of this project was to forecast customer footfall for a retail store chain to help optimize staffing, inventory management, and promotional strategies. \n",
    "\n",
    "An interpretable SARIMAX model was developed, incorporating exogenous variables such as store open status, promotions, state holidays, and school holidays. By integrating these additional factors, we achieved a Root Mean Squared Error (RMSE) of 60.835, significantly improving forecast accuracy.\n",
    "\n",
    "By leveraging both time series analysis and regression techniques, a comprehensive solution was provided that accounts for various influences on customer behavior, resulting in more reliable and actionable insights."
   ]
  },
  {
   "cell_type": "markdown",
   "id": "2dd143da",
   "metadata": {},
   "source": [
    "****"
   ]
  }
 ],
 "metadata": {
  "finalized": {
   "timestamp": 1716206621171,
   "trusted": false
  },
  "kernelspec": {
   "display_name": "Python 3 (ipykernel)",
   "language": "python",
   "name": "python3"
  },
  "language_info": {
   "codemirror_mode": {
    "name": "ipython",
    "version": 3
   },
   "file_extension": ".py",
   "mimetype": "text/x-python",
   "name": "python",
   "nbconvert_exporter": "python",
   "pygments_lexer": "ipython3",
   "version": "3.9.12"
  }
 },
 "nbformat": 4,
 "nbformat_minor": 5
}
